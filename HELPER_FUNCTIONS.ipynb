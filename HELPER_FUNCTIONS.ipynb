{
  "nbformat": 4,
  "nbformat_minor": 0,
  "metadata": {
    "colab": {
      "name": "HELPER_FUNCTIONS.ipynb",
      "provenance": [],
      "collapsed_sections": [],
      "authorship_tag": "ABX9TyPjPrmeFRSBd9pcrfjBrvRM",
      "include_colab_link": true
    },
    "kernelspec": {
      "name": "python3",
      "display_name": "Python 3"
    },
    "language_info": {
      "name": "python"
    }
  },
  "cells": [
    {
      "cell_type": "markdown",
      "metadata": {
        "id": "view-in-github",
        "colab_type": "text"
      },
      "source": [
        "<a href=\"https://colab.research.google.com/github/HVBLEGENDZZ9/BASICS-OF-DEEP-LEARNING/blob/main/HELPER_FUNCTIONS.ipynb\" target=\"_parent\"><img src=\"https://colab.research.google.com/assets/colab-badge.svg\" alt=\"Open In Colab\"/></a>"
      ]
    },
    {
      "cell_type": "code",
      "metadata": {
        "id": "WnCG6nznWaNf"
      },
      "source": [
        "import matplotlib.pyplot as plt\n",
        "import seaborn as sns\n",
        "def plot_curves(history):\n",
        "  '''\n",
        "  Args: history of .fit() operation\n",
        "  function: plots the train loss vs val loss and train accuracy vs val accuracy\n",
        "  returns: none\n",
        "  '''\n",
        "  train_loss = history.history[\"loss\"]\n",
        "  val_loss = history.history[\"val_loss\"]\n",
        "  train_accuracy = history.history[\"accuracy\"]\n",
        "  val_accuracy = history.history[\"val_accuracy\"]\n",
        "  epochs = range(len(history.history[\"loss\"]))\n",
        "  plt.plot(epochs,train_loss,val_loss)\n",
        "  plt.grid(True)\n",
        "  plt.title(\"TRAINING LOSS VS VALIDATION LOSS\")\n",
        "  plt.legend([\"TRAINING LOSS\",\"VALIDATION LOSS\"])\n",
        "  plt.figure()\n",
        "  plt.plot(epochs,train_accuracy,val_accuracy)\n",
        "  plt.grid(True)\n",
        "  plt.title(\"TRAINING ACCURACY VS VALIDATION ACCURACY\")\n",
        "  plt.legend([\"TRAINING ACCURACY\",\"VALIDATION ACCURACY\"])"
      ],
      "execution_count": 1,
      "outputs": []
    },
    {
      "cell_type": "code",
      "metadata": {
        "id": "Y0Sx_IAvWzpu"
      },
      "source": [
        "def plot_confusion_matrix(cm,class_names,figsize=(12,12)):\n",
        "  '''\n",
        "  Args: confusion matrix, list of classes and a tuple of the size of plot\n",
        "  function: plots a confusion matrix using seaborn heatmap\n",
        "  returns: none\n",
        "  '''\n",
        "  import seaborn as sns\n",
        "  plt.figure(figsize=figsize)\n",
        "  sns.heatmap(cm/np.sum(cm),\n",
        "              annot=True,\n",
        "              fmt='.2%',\n",
        "              linewidths = 0.5,\n",
        "              square=True,\n",
        "              cbar = True,\n",
        "              cmap = \"Blues_r\",\n",
        "              xticklabels=class_names,\n",
        "              yticklabels=class_names\n",
        "              )\n",
        "  plt.xlabel(\"PREDICET LABEL\")\n",
        "  plt.ylabel(\"ACTUAL LABEL\")"
      ],
      "execution_count": 3,
      "outputs": []
    }
  ]
}