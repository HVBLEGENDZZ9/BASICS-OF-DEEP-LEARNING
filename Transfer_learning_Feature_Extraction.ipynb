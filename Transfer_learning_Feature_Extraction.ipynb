{
  "nbformat": 4,
  "nbformat_minor": 0,
  "metadata": {
    "colab": {
      "name": "Transfer_learning_Feature_Extraction.ipynb",
      "provenance": [],
      "authorship_tag": "ABX9TyMSvWE05qsn8TuoBu7WxJBp",
      "include_colab_link": true
    },
    "kernelspec": {
      "name": "python3",
      "display_name": "Python 3"
    },
    "language_info": {
      "name": "python"
    },
    "accelerator": "GPU"
  },
  "cells": [
    {
      "cell_type": "markdown",
      "metadata": {
        "id": "view-in-github",
        "colab_type": "text"
      },
      "source": [
        "<a href=\"https://colab.research.google.com/github/HVBLEGENDZZ9/BASICS-OF-DEEP-LEARNING/blob/main/Transfer_learning_Feature_Extraction.ipynb\" target=\"_parent\"><img src=\"https://colab.research.google.com/assets/colab-badge.svg\" alt=\"Open In Colab\"/></a>"
      ]
    },
    {
      "cell_type": "markdown",
      "metadata": {
        "id": "8qddA0AGcR7Y"
      },
      "source": [
        "###**DIFFERENT TYPES OF TRANSFER LEARNING:**\n",
        "* **\"As is\"** - using an existing model without any changes\n",
        "* **\"Feature Extraction\"** - use the prelearned patterns of an existing model and only change the output layer for your own use\n",
        "* **\"Fine Tuning\"** - use a prelearned model for your project and \"fine tune\" the underlying layers or add new layers to get the desired output"
      ]
    },
    {
      "cell_type": "markdown",
      "metadata": {
        "id": "eRqD2T1yWJkd"
      },
      "source": [
        "###**FEATURE EXTRACTION TRANSFER LEARNING**"
      ]
    },
    {
      "cell_type": "markdown",
      "metadata": {
        "id": "qENbREgKl3Jp"
      },
      "source": [
        "### **IMPORTING THE MODULES**"
      ]
    },
    {
      "cell_type": "code",
      "metadata": {
        "id": "7vjldEBMhjdy"
      },
      "source": [
        "import zipfile\n",
        "import numpy as np\n",
        "import pandas as pd\n",
        "import matplotlib.pyplot as plt\n",
        "import tensorflow as tf\n",
        "import seaborn as sns\n",
        "import os\n",
        "import datetime"
      ],
      "execution_count": null,
      "outputs": []
    },
    {
      "cell_type": "markdown",
      "metadata": {
        "id": "g0c4m6Pil9Fs"
      },
      "source": [
        "###**GETTING THE DATA**"
      ]
    },
    {
      "cell_type": "code",
      "metadata": {
        "colab": {
          "base_uri": "https://localhost:8080/"
        },
        "id": "6o0NccwqiAGz",
        "outputId": "4c82853c-3c46-4a52-a200-80707dad68ae"
      },
      "source": [
        "!wget https://storage.googleapis.com/ztm_tf_course/food_vision/10_food_classes_10_percent.zip"
      ],
      "execution_count": null,
      "outputs": [
        {
          "output_type": "stream",
          "name": "stdout",
          "text": [
            "--2021-10-29 15:05:05--  https://storage.googleapis.com/ztm_tf_course/food_vision/10_food_classes_10_percent.zip\n",
            "Resolving storage.googleapis.com (storage.googleapis.com)... 142.251.8.128, 74.125.23.128, 74.125.203.128, ...\n",
            "Connecting to storage.googleapis.com (storage.googleapis.com)|142.251.8.128|:443... connected.\n",
            "HTTP request sent, awaiting response... 200 OK\n",
            "Length: 168546183 (161M) [application/zip]\n",
            "Saving to: ‘10_food_classes_10_percent.zip’\n",
            "\n",
            "10_food_classes_10_ 100%[===================>] 160.74M  38.4MB/s    in 4.2s    \n",
            "\n",
            "2021-10-29 15:05:10 (38.4 MB/s) - ‘10_food_classes_10_percent.zip’ saved [168546183/168546183]\n",
            "\n"
          ]
        }
      ]
    },
    {
      "cell_type": "code",
      "metadata": {
        "id": "QnrYERdliDDU"
      },
      "source": [
        "zf = zipfile.ZipFile(\"/content/10_food_classes_10_percent.zip\")\n",
        "zf.extractall()\n",
        "zf.close()"
      ],
      "execution_count": null,
      "outputs": []
    },
    {
      "cell_type": "code",
      "metadata": {
        "colab": {
          "base_uri": "https://localhost:8080/"
        },
        "id": "1G8f-FpJid4I",
        "outputId": "ed6a95b3-9596-412b-daeb-c7b6e765bee5"
      },
      "source": [
        "for root,dir,files in os.walk(\"/content/10_food_classes_10_percent\"):\n",
        "  print(f'THERE ARE {len(dir)} SUBDIRECTORIES AND {len(files)} FILES IN THIS DIRECTORY')"
      ],
      "execution_count": null,
      "outputs": [
        {
          "output_type": "stream",
          "name": "stdout",
          "text": [
            "THERE ARE 2 SUBDIRECTORIES AND 0 FILES IN THIS DIRECTORY\n",
            "THERE ARE 10 SUBDIRECTORIES AND 0 FILES IN THIS DIRECTORY\n",
            "THERE ARE 0 SUBDIRECTORIES AND 75 FILES IN THIS DIRECTORY\n",
            "THERE ARE 0 SUBDIRECTORIES AND 75 FILES IN THIS DIRECTORY\n",
            "THERE ARE 0 SUBDIRECTORIES AND 75 FILES IN THIS DIRECTORY\n",
            "THERE ARE 0 SUBDIRECTORIES AND 75 FILES IN THIS DIRECTORY\n",
            "THERE ARE 0 SUBDIRECTORIES AND 75 FILES IN THIS DIRECTORY\n",
            "THERE ARE 0 SUBDIRECTORIES AND 75 FILES IN THIS DIRECTORY\n",
            "THERE ARE 0 SUBDIRECTORIES AND 75 FILES IN THIS DIRECTORY\n",
            "THERE ARE 0 SUBDIRECTORIES AND 75 FILES IN THIS DIRECTORY\n",
            "THERE ARE 0 SUBDIRECTORIES AND 75 FILES IN THIS DIRECTORY\n",
            "THERE ARE 0 SUBDIRECTORIES AND 75 FILES IN THIS DIRECTORY\n",
            "THERE ARE 10 SUBDIRECTORIES AND 0 FILES IN THIS DIRECTORY\n",
            "THERE ARE 0 SUBDIRECTORIES AND 250 FILES IN THIS DIRECTORY\n",
            "THERE ARE 0 SUBDIRECTORIES AND 250 FILES IN THIS DIRECTORY\n",
            "THERE ARE 0 SUBDIRECTORIES AND 250 FILES IN THIS DIRECTORY\n",
            "THERE ARE 0 SUBDIRECTORIES AND 250 FILES IN THIS DIRECTORY\n",
            "THERE ARE 0 SUBDIRECTORIES AND 250 FILES IN THIS DIRECTORY\n",
            "THERE ARE 0 SUBDIRECTORIES AND 250 FILES IN THIS DIRECTORY\n",
            "THERE ARE 0 SUBDIRECTORIES AND 250 FILES IN THIS DIRECTORY\n",
            "THERE ARE 0 SUBDIRECTORIES AND 250 FILES IN THIS DIRECTORY\n",
            "THERE ARE 0 SUBDIRECTORIES AND 250 FILES IN THIS DIRECTORY\n",
            "THERE ARE 0 SUBDIRECTORIES AND 250 FILES IN THIS DIRECTORY\n"
          ]
        }
      ]
    },
    {
      "cell_type": "markdown",
      "metadata": {
        "id": "1I-oIGFSmDYy"
      },
      "source": [
        "###**CREATING TEST AND TRAIN DATA**"
      ]
    },
    {
      "cell_type": "code",
      "metadata": {
        "colab": {
          "base_uri": "https://localhost:8080/"
        },
        "id": "hxmm_QSijrAM",
        "outputId": "b8110683-672f-420f-e325-0af0d4c46208"
      },
      "source": [
        "from tensorflow.keras.preprocessing.image import ImageDataGenerator\n",
        "train = ImageDataGenerator(rescale=1/255.)\n",
        "test = ImageDataGenerator(rescale=1/255.)\n",
        "train_data = train.flow_from_directory(\"/content/10_food_classes_10_percent/train\",\n",
        "                                       class_mode = \"categorical\",\n",
        "                                       target_size = (224,224))\n",
        "test_data = test.flow_from_directory(\"/content/10_food_classes_10_percent/test\",\n",
        "                                       class_mode = \"categorical\",\n",
        "                                       target_size = (224,224))\n",
        "#training data is less than the testing data"
      ],
      "execution_count": null,
      "outputs": [
        {
          "output_type": "stream",
          "name": "stdout",
          "text": [
            "Found 750 images belonging to 10 classes.\n",
            "Found 2500 images belonging to 10 classes.\n"
          ]
        }
      ]
    },
    {
      "cell_type": "code",
      "metadata": {
        "colab": {
          "base_uri": "https://localhost:8080/"
        },
        "id": "V7k9SYyyL9zi",
        "outputId": "28db0484-1f7e-42d9-834e-e50628764df4"
      },
      "source": [
        "train_data.num_classes"
      ],
      "execution_count": null,
      "outputs": [
        {
          "output_type": "execute_result",
          "data": {
            "text/plain": [
              "10"
            ]
          },
          "metadata": {},
          "execution_count": 6
        }
      ]
    },
    {
      "cell_type": "markdown",
      "metadata": {
        "id": "HZNd4m_hl1Lc"
      },
      "source": [
        "###**SETTING UP CALLBACKS**"
      ]
    },
    {
      "cell_type": "code",
      "metadata": {
        "id": "NPLqsnk4mSfM"
      },
      "source": [
        "#creating the tensorboard callback\n",
        "def tensorboard_callback(dirname,experimentname):\n",
        "  log_dir = dirname + '/' + experimentname + datetime.datetime.now().strftime(\"%d%m%Y-%H%M%S\")\n",
        "  tensorboard_callback = tf.keras.callbacks.TensorBoard(log_dir=log_dir)\n",
        "  return tensorboard_callback"
      ],
      "execution_count": null,
      "outputs": []
    },
    {
      "cell_type": "markdown",
      "metadata": {
        "id": "vMgNCGFFLyDV"
      },
      "source": [
        "###**USING TENSORFLOW HUB TO USE A RESNET ARCHITECTURE BASED PRETRAINED MODEL**"
      ]
    },
    {
      "cell_type": "code",
      "metadata": {
        "id": "qCnFY0n6N294"
      },
      "source": [
        "efficientnet = \"https://tfhub.dev/tensorflow/efficientnet/b0/feature-vector/1\"\n",
        "resnet = \"https://tfhub.dev/google/imagenet/resnet_v2_50/feature_vector/5\""
      ],
      "execution_count": null,
      "outputs": []
    },
    {
      "cell_type": "code",
      "metadata": {
        "id": "HFdxgp0lL2IV"
      },
      "source": [
        "import tensorflow_hub as hub\n",
        "def feature_extraction_layer(model_url,num_classes=10):\n",
        "  '''\n",
        "  returns a model that has the feature extraction layer whose url is given in the input\n",
        "  '''\n",
        "  layer = hub.KerasLayer(model_url,\n",
        "                         trainable = False,\n",
        "                         name = \"FEATURE_EXTRACTION_LAYER\",\n",
        "                         input_shape=(224,224,3))\n",
        "  model = tf.keras.Sequential([\n",
        "    layer,\n",
        "    tf.keras.layers.Dense(num_classes,activation=\"softmax\")\n",
        "  ])\n",
        "  return model"
      ],
      "execution_count": null,
      "outputs": []
    },
    {
      "cell_type": "code",
      "metadata": {
        "id": "kKalWcoiONAt"
      },
      "source": [
        "resnet_model = feature_extraction_layer(resnet)"
      ],
      "execution_count": null,
      "outputs": []
    },
    {
      "cell_type": "code",
      "metadata": {
        "colab": {
          "base_uri": "https://localhost:8080/"
        },
        "id": "E381K42IOUT1",
        "outputId": "a8921416-a8e5-4c17-afff-0f1984908021"
      },
      "source": [
        "resnet_model.summary()"
      ],
      "execution_count": null,
      "outputs": [
        {
          "output_type": "stream",
          "name": "stdout",
          "text": [
            "Model: \"sequential\"\n",
            "_________________________________________________________________\n",
            "Layer (type)                 Output Shape              Param #   \n",
            "=================================================================\n",
            "FEATURE_EXTRACTION_LAYER (Ke (None, 2048)              23564800  \n",
            "_________________________________________________________________\n",
            "dense (Dense)                (None, 10)                20490     \n",
            "=================================================================\n",
            "Total params: 23,585,290\n",
            "Trainable params: 20,490\n",
            "Non-trainable params: 23,564,800\n",
            "_________________________________________________________________\n"
          ]
        }
      ]
    },
    {
      "cell_type": "code",
      "metadata": {
        "id": "m0eb37_mOYAE"
      },
      "source": [
        "resnet_model.compile(loss=tf.keras.losses.CategoricalCrossentropy(),\n",
        "                     optimizer = tf.keras.optimizers.Adam(),\n",
        "                     metrics = \"accuracy\")"
      ],
      "execution_count": null,
      "outputs": []
    },
    {
      "cell_type": "code",
      "metadata": {
        "colab": {
          "base_uri": "https://localhost:8080/"
        },
        "id": "6Xj6siroOvBI",
        "outputId": "358ecbbe-9320-4375-cd99-71f177c8121e"
      },
      "source": [
        "history_resnet = resnet_model.fit(train_data,\n",
        "                                  epochs = 5,\n",
        "                                  steps_per_epoch = len(train_data),\n",
        "                                  validation_data = test_data,\n",
        "                                  validation_steps = len(test_data),\n",
        "                                  callbacks = [tensorboard_callback(dirname=\"TENSORFLOWHUB\",experimentname=\"RESNETV2_50\")])"
      ],
      "execution_count": null,
      "outputs": [
        {
          "output_type": "stream",
          "name": "stdout",
          "text": [
            "Epoch 1/5\n",
            "24/24 [==============================] - 59s 1s/step - loss: 1.9281 - accuracy: 0.3507 - val_loss: 1.2070 - val_accuracy: 0.6152\n",
            "Epoch 2/5\n",
            "24/24 [==============================] - 22s 952ms/step - loss: 0.8879 - accuracy: 0.7400 - val_loss: 0.8589 - val_accuracy: 0.7200\n",
            "Epoch 3/5\n",
            "24/24 [==============================] - 22s 960ms/step - loss: 0.6068 - accuracy: 0.8133 - val_loss: 0.7556 - val_accuracy: 0.7528\n",
            "Epoch 4/5\n",
            "24/24 [==============================] - 22s 953ms/step - loss: 0.4675 - accuracy: 0.8707 - val_loss: 0.7079 - val_accuracy: 0.7624\n",
            "Epoch 5/5\n",
            "24/24 [==============================] - 22s 955ms/step - loss: 0.3758 - accuracy: 0.9053 - val_loss: 0.7041 - val_accuracy: 0.7736\n"
          ]
        }
      ]
    },
    {
      "cell_type": "markdown",
      "metadata": {
        "id": "6oWJ1zGsTfhN"
      },
      "source": [
        "###**EVALUATING OUR RESNET MODEL**"
      ]
    },
    {
      "cell_type": "code",
      "metadata": {
        "colab": {
          "base_uri": "https://localhost:8080/"
        },
        "id": "suSz_eBnVAQW",
        "outputId": "0b3533d4-90a1-445c-a86e-11d63dee3f93"
      },
      "source": [
        "resnet_model.evaluate(test_data)"
      ],
      "execution_count": null,
      "outputs": [
        {
          "output_type": "stream",
          "name": "stdout",
          "text": [
            "79/79 [==============================] - 17s 218ms/step - loss: 0.7041 - accuracy: 0.7736\n"
          ]
        },
        {
          "output_type": "execute_result",
          "data": {
            "text/plain": [
              "[0.7041433453559875, 0.7735999822616577]"
            ]
          },
          "metadata": {},
          "execution_count": 14
        }
      ]
    },
    {
      "cell_type": "code",
      "metadata": {
        "id": "LzeTLCh6TiwA"
      },
      "source": [
        "#OUR MODEL HAS ALREADY ACHIEVED 76% ACCURACY ON THE TEST DATA AND THAT TOO ONLY IN 5 EPOCHS\n",
        "def plot_curves(history):\n",
        "  train_loss = history.history[\"loss\"]\n",
        "  val_loss = history.history[\"val_loss\"]\n",
        "  train_accuracy = history.history[\"accuracy\"]\n",
        "  val_accuracy = history.history[\"val_accuracy\"]\n",
        "  epochs = range(len(history.history[\"loss\"]))\n",
        "  plt.plot(epochs,train_loss,val_loss)\n",
        "  plt.grid(True)\n",
        "  plt.title(\"TRAINING LOSS VS VALIDATION LOSS\")\n",
        "  plt.legend([\"TRAINING LOSS\",\"VALIDATION LOSS\"])\n",
        "  plt.figure()\n",
        "  plt.plot(epochs,train_accuracy,val_accuracy)\n",
        "  plt.grid(True)\n",
        "  plt.title(\"TRAINING ACCURACY VS VALIDATION ACCURACY\")\n",
        "  plt.legend([\"TRAINING ACCURACY\",\"VALIDATION ACCURACY\"])"
      ],
      "execution_count": null,
      "outputs": []
    },
    {
      "cell_type": "code",
      "metadata": {
        "colab": {
          "base_uri": "https://localhost:8080/",
          "height": 545
        },
        "id": "aiSe-sCsWLGJ",
        "outputId": "93cb29e5-33e4-4194-c950-2a9226b90a32"
      },
      "source": [
        "plot_curves(history_resnet)"
      ],
      "execution_count": null,
      "outputs": [
        {
          "output_type": "display_data",
          "data": {
            "image/png": "[encoded data removed]",
            "text/plain": [
              "<Figure size 432x288 with 1 Axes>"
            ]
          },
          "metadata": {
            "needs_background": "light"
          }
        },
        {
          "output_type": "display_data",
          "data": {
            "image/png": "[encoded data removed]",
            "text/plain": [
              "<Figure size 432x288 with 1 Axes>"
            ]
          },
          "metadata": {
            "needs_background": "light"
          }
        }
      ]
    },
    {
      "cell_type": "markdown",
      "metadata": {
        "id": "TX5PdRISWZZl"
      },
      "source": [
        "###**USING TENSORFLOW HUB TO USE A EFFICIENTNET ARCHITECTURE BASED PRETRAINED MODEL**"
      ]
    },
    {
      "cell_type": "code",
      "metadata": {
        "id": "5l5YwIH4Wjq-"
      },
      "source": [
        "efficientnet_model = feature_extraction_layer(efficientnet)"
      ],
      "execution_count": null,
      "outputs": []
    },
    {
      "cell_type": "code",
      "metadata": {
        "id": "yiJbXDCrXA5r"
      },
      "source": [
        "efficientnet_model.compile(loss=tf.keras.losses.CategoricalCrossentropy(),\n",
        "                           optimizer=tf.keras.optimizers.Adam(),\n",
        "                           metrics = \"accuracy\")"
      ],
      "execution_count": null,
      "outputs": []
    },
    {
      "cell_type": "code",
      "metadata": {
        "colab": {
          "base_uri": "https://localhost:8080/"
        },
        "id": "HYzkCJmVXVdk",
        "outputId": "c012bbde-7fd8-44d4-9794-26cc5a92ec88"
      },
      "source": [
        "efficientnet_history = efficientnet_model.fit(train_data,\n",
        "                                              epochs = 5,\n",
        "                                              steps_per_epoch = len(train_data),\n",
        "                                              validation_data = test_data,\n",
        "                                              validation_steps = len(test_data),\n",
        "                                              callbacks = [tensorboard_callback(\"TENSORFLOWHUB\",\"EFFICIENTNETB0\")])"
      ],
      "execution_count": null,
      "outputs": [
        {
          "output_type": "stream",
          "name": "stdout",
          "text": [
            "Epoch 1/5\n",
            "24/24 [==============================] - 33s 1000ms/step - loss: 1.8503 - accuracy: 0.4293 - val_loss: 1.3040 - val_accuracy: 0.7216\n",
            "Epoch 2/5\n",
            "24/24 [==============================] - 19s 817ms/step - loss: 1.0486 - accuracy: 0.7667 - val_loss: 0.8710 - val_accuracy: 0.8152\n",
            "Epoch 3/5\n",
            "24/24 [==============================] - 19s 818ms/step - loss: 0.7525 - accuracy: 0.8293 - val_loss: 0.7019 - val_accuracy: 0.8464\n",
            "Epoch 4/5\n",
            "24/24 [==============================] - 19s 814ms/step - loss: 0.6010 - accuracy: 0.8640 - val_loss: 0.6119 - val_accuracy: 0.8572\n",
            "Epoch 5/5\n",
            "24/24 [==============================] - 19s 814ms/step - loss: 0.5070 - accuracy: 0.8947 - val_loss: 0.5579 - val_accuracy: 0.8612\n"
          ]
        }
      ]
    },
    {
      "cell_type": "markdown",
      "metadata": {
        "id": "1GcX5-jnZeOt"
      },
      "source": [
        "###**EVALUATING OUR EFFICIENTNET MODEL**"
      ]
    },
    {
      "cell_type": "code",
      "metadata": {
        "colab": {
          "base_uri": "https://localhost:8080/"
        },
        "id": "SfNDcUvdZn79",
        "outputId": "e0cda487-03cf-4ce1-b5b8-bd7a70dbc2bf"
      },
      "source": [
        "efficientnet_model.evaluate(test_data)"
      ],
      "execution_count": null,
      "outputs": [
        {
          "output_type": "stream",
          "name": "stdout",
          "text": [
            "79/79 [==============================] - 15s 187ms/step - loss: 0.5579 - accuracy: 0.8612\n"
          ]
        },
        {
          "output_type": "execute_result",
          "data": {
            "text/plain": [
              "[0.5579168200492859, 0.8611999750137329]"
            ]
          },
          "metadata": {},
          "execution_count": 20
        }
      ]
    },
    {
      "cell_type": "code",
      "metadata": {
        "colab": {
          "base_uri": "https://localhost:8080/",
          "height": 545
        },
        "id": "zHeJ5BsoZ1LQ",
        "outputId": "f10df3c3-2df0-4d68-8334-54884a9d1c08"
      },
      "source": [
        "plot_curves(efficientnet_history)"
      ],
      "execution_count": null,
      "outputs": [
        {
          "output_type": "display_data",
          "data": {
            "image/png": "[encoded data removed]",
            "text/plain": [
              "<Figure size 432x288 with 1 Axes>"
            ]
          },
          "metadata": {
            "needs_background": "light"
          }
        },
        {
          "output_type": "display_data",
          "data": {
            "image/png": "[encoded data removed]",
            "text/plain": [
              "<Figure size 432x288 with 1 Axes>"
            ]
          },
          "metadata": {
            "needs_background": "light"
          }
        }
      ]
    },
    {
      "cell_type": "markdown",
      "metadata": {
        "id": "rfSLxswMcMpU"
      },
      "source": [
        "###**COMPARING OUR MODELS USING TENSORBOARD**"
      ]
    },
    {
      "cell_type": "markdown",
      "metadata": {
        "id": "LwvQ7ucPiszl"
      },
      "source": [
        "NOTE: WHEN EXPERIMENTS ARE UPLPOADED TO TensorBoard.dev TEY ARE PUBLIC AND CAN BE SEEN BY EVERYONE"
      ]
    },
    {
      "cell_type": "code",
      "metadata": {
        "colab": {
          "base_uri": "https://localhost:8080/"
        },
        "id": "9XfoGqRyjBen",
        "outputId": "b9e43bee-ede1-4e90-8795-a95042a31e92"
      },
      "source": [
        "!tensorboard dev upload --logdir ./TENSORFLOWHUB/ \\\n",
        "--name \"RESNETV2_50 VS EFFICIENTB0\" \\\n",
        "--description \"USING TENSORBOARD TO COMPARE THE PEERFORMANCES OF OUR TENSORFLOW HUB FEATURE EXTRACTION MODELS\" \\\n",
        "--one_shot"
      ],
      "execution_count": null,
      "outputs": [
        {
          "output_type": "stream",
          "name": "stdout",
          "text": [
            "2021-10-29 15:14:05.656234: I tensorflow/stream_executor/cuda/cuda_gpu_executor.cc:937] successful NUMA node read from SysFS had negative value (-1), but there must be at least one NUMA node, so returning NUMA node zero\n",
            "2021-10-29 15:14:05.679239: I tensorflow/stream_executor/cuda/cuda_gpu_executor.cc:937] successful NUMA node read from SysFS had negative value (-1), but there must be at least one NUMA node, so returning NUMA node zero\n",
            "2021-10-29 15:14:05.679743: I tensorflow/stream_executor/cuda/cuda_gpu_executor.cc:937] successful NUMA node read from SysFS had negative value (-1), but there must be at least one NUMA node, so returning NUMA node zero\n",
            "\n",
            "***** TensorBoard Uploader *****\n",
            "\n",
            "This will upload your TensorBoard logs to https://tensorboard.dev/ from\n",
            "the following directory:\n",
            "\n",
            "./TENSORFLOWHUB/\n",
            "\n",
            "This TensorBoard will be visible to everyone. Do not upload sensitive\n",
            "data.\n",
            "\n",
            "Your use of this service is subject to Google's Terms of Service\n",
            "<https://policies.google.com/terms> and Privacy Policy\n",
            "<https://policies.google.com/privacy>, and TensorBoard.dev's Terms of Service\n",
            "<https://tensorboard.dev/policy/terms/>.\n",
            "\n",
            "This notice will not be shown again while you are logged into the uploader.\n",
            "To log out, run `tensorboard dev auth revoke`.\n",
            "\n",
            "Continue? (yes/NO) yes\n",
            "\n",
            "Please visit this URL to authorize this application: https://accounts.google.com/o/oauth2/auth?response_type=code&client_id=373649185512-8v619h5kft38l4456nm2dj4ubeqsrvh6.apps.googleusercontent.com&redirect_uri=urn%3Aietf%3Awg%3Aoauth%3A2.0%3Aoob&scope=openid+https%3A%2F%2Fwww.googleapis.com%2Fauth%2Fuserinfo.email&state=s1HT8MXGf2oxxQOHDNSFBBx69JYpYd&prompt=consent&access_type=offline\n",
            "Enter the authorization code: 4/1AX4XfWh6r8CYmWFlRqUlZ9E9kIuZ0V8epuSMU3rG7R4sKfc64JiSURxCoh8\n",
            "\n",
            "\n",
            "New experiment created. View your TensorBoard at: https://tensorboard.dev/experiment/oD2aJ139SpmOtocwyTokNg/\n",
            "\n",
            "\u001b[1m[2021-10-29T15:14:42]\u001b[0m Started scanning logdir.\n",
            "\u001b[1m[2021-10-29T15:14:46]\u001b[0m Total uploaded: 60 scalars, 0 tensors, 2 binary objects (5.7 MB)\n",
            "\u001b[1m[2021-10-29T15:14:46]\u001b[0m Done scanning logdir.\n",
            "\n",
            "\n",
            "Done. View your TensorBoard at https://tensorboard.dev/experiment/oD2aJ139SpmOtocwyTokNg/\n"
          ]
        }
      ]
    },
    {
      "cell_type": "code",
      "metadata": {
        "colab": {
          "base_uri": "https://localhost:8080/"
        },
        "id": "RZISNmqjoK4r",
        "outputId": "5c27884f-312a-4d8e-84ab-0e1c34158f82"
      },
      "source": [
        "!tensorboard dev list"
      ],
      "execution_count": null,
      "outputs": [
        {
          "output_type": "stream",
          "name": "stdout",
          "text": [
            "2021-10-29 15:17:58.646694: I tensorflow/stream_executor/cuda/cuda_gpu_executor.cc:937] successful NUMA node read from SysFS had negative value (-1), but there must be at least one NUMA node, so returning NUMA node zero\n",
            "2021-10-29 15:17:58.655253: I tensorflow/stream_executor/cuda/cuda_gpu_executor.cc:937] successful NUMA node read from SysFS had negative value (-1), but there must be at least one NUMA node, so returning NUMA node zero\n",
            "2021-10-29 15:17:58.655795: I tensorflow/stream_executor/cuda/cuda_gpu_executor.cc:937] successful NUMA node read from SysFS had negative value (-1), but there must be at least one NUMA node, so returning NUMA node zero\n",
            "https://tensorboard.dev/experiment/oD2aJ139SpmOtocwyTokNg/\n",
            "\tName                 RESNETV2_50 VS EFFICIENTB0\n",
            "\tDescription          USING TENSORBOARD TO COMPARE THE PEERFORMANCES OF OUR TENSORFLOW HUB FEATURE EXTRACTION MODELS\n",
            "\tId                   oD2aJ139SpmOtocwyTokNg\n",
            "\tCreated              2021-10-29 15:14:41 (3 minutes ago)\n",
            "\tUpdated              2021-10-29 15:14:46 (3 minutes ago)\n",
            "\tRuns                 4\n",
            "\tTags                 5\n",
            "\tScalars              60\n",
            "\tTensor bytes         0\n",
            "\tBinary object bytes  5962163\n",
            "Total: 1 experiment(s)\n"
          ]
        }
      ]
    }
  ]
}