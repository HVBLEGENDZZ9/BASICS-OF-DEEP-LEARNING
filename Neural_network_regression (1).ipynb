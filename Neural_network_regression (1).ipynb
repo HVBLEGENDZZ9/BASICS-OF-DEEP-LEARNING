{
 "cells": [
  {
   "cell_type": "code",
   "execution_count": 1,
   "metadata": {
    "colab": {
     "base_uri": "https://localhost:8080/",
     "height": 35
    },
    "id": "6PaSzOBRbkY8",
    "outputId": "544d190c-c05e-4b34-8a30-5e34683c7407"
   },
   "outputs": [
    {
     "data": {
      "text/plain": [
       "'2.6.0'"
      ]
     },
     "execution_count": 1,
     "metadata": {},
     "output_type": "execute_result"
    }
   ],
   "source": [
    "import tensorflow as tf\n",
    "import pandas as pd\n",
    "import numpy as np\n",
    "import matplotlib.pyplot as plt\n",
    "import time\n",
    "tf.__version__"
   ]
  },
  {
   "cell_type": "markdown",
   "metadata": {
    "id": "yErr589tWi9w"
   },
   "source": [
    "### **Loading the dataset**"
   ]
  },
  {
   "cell_type": "code",
   "execution_count": 2,
   "metadata": {
    "id": "NadoIDZcWqVq"
   },
   "outputs": [
    {
     "name": "stdout",
     "output_type": "stream",
     "text": [
      "Downloading data from https://storage.googleapis.com/tensorflow/tf-keras-datasets/boston_housing.npz\n",
      "57344/57026 [==============================] - 0s 1us/step\n",
      "65536/57026 [==================================] - 0s 1us/step\n"
     ]
    }
   ],
   "source": [
    "from tensorflow import keras\n",
    "boston_housing = keras.datasets.boston_housing\n",
    "(x_train,y_train),(x_test,y_test) = boston_housing.load_data()"
   ]
  },
  {
   "cell_type": "code",
   "execution_count": 3,
   "metadata": {
    "colab": {
     "base_uri": "https://localhost:8080/"
    },
    "id": "Hu0QPwIzfmYS",
    "outputId": "0337c044-8c0a-459c-841c-9a4e45419c7b"
   },
   "outputs": [
    {
     "data": {
      "text/plain": [
       "dtype('float64')"
      ]
     },
     "execution_count": 3,
     "metadata": {},
     "output_type": "execute_result"
    }
   ],
   "source": [
    "x_train.dtype"
   ]
  },
  {
   "cell_type": "code",
   "execution_count": 4,
   "metadata": {
    "colab": {
     "base_uri": "https://localhost:8080/"
    },
    "id": "uUTyJDFhXOaf",
    "outputId": "06f78bd9-0a85-454a-dc00-33ebf8a77989"
   },
   "outputs": [
    {
     "data": {
      "text/plain": [
       "((404, 13), (404,), (13,))"
      ]
     },
     "execution_count": 4,
     "metadata": {},
     "output_type": "execute_result"
    }
   ],
   "source": [
    "x_train.shape,y_train.shape,x_train[0].shape"
   ]
  },
  {
   "cell_type": "code",
   "execution_count": 5,
   "metadata": {
    "colab": {
     "base_uri": "https://localhost:8080/"
    },
    "id": "YE2lpzQjXlM1",
    "outputId": "f9de42df-6a84-4019-c103-7370db270435"
   },
   "outputs": [
    {
     "data": {
      "text/plain": [
       "((102, 13), (102,))"
      ]
     },
     "execution_count": 5,
     "metadata": {},
     "output_type": "execute_result"
    }
   ],
   "source": [
    "x_test.shape,y_test.shape"
   ]
  },
  {
   "cell_type": "code",
   "execution_count": 6,
   "metadata": {
    "id": "_-_t1XQ5gzdq"
   },
   "outputs": [],
   "source": [
    "tensor1 = tf.constant(x_train)\n",
    "tensor2 = tf.constant(y_train)"
   ]
  },
  {
   "cell_type": "markdown",
   "metadata": {
    "id": "_mdu8tjb2ReY"
   },
   "source": [
    "### **MODEL1: TRAINING WITH SELU AND WITHOUT STANDARDIZATION**"
   ]
  },
  {
   "cell_type": "code",
   "execution_count": 7,
   "metadata": {
    "id": "wU4D5flFXqy2"
   },
   "outputs": [],
   "source": [
    "#creating the model\n",
    "tf.random.set_seed(42)\n",
    "model1 = tf.keras.Sequential([\n",
    " tf.keras.layers.Dense(100,activation='selu',kernel_initializer=\"lecun_normal\"),\n",
    " tf.keras.layers.Dense(100,activation='selu',kernel_initializer=\"lecun_normal\"),\n",
    " tf.keras.layers.Dense(100,activation='selu',kernel_initializer=\"lecun_normal\"),\n",
    " tf.keras.layers.Dense(100,activation='selu',kernel_initializer=\"lecun_normal\"),\n",
    " tf.keras.layers.Dense(100,activation='selu',kernel_initializer=\"lecun_normal\"),\n",
    " tf.keras.layers.Dense(1,name = 'OUTPUT')\n",
    "])"
   ]
  },
  {
   "cell_type": "code",
   "execution_count": 8,
   "metadata": {
    "id": "8mY4yxmQdDFg"
   },
   "outputs": [],
   "source": [
    "model1.compile(loss = \"mse\",optimizer=tf.keras.optimizers.Adam(),metrics = \"mae\")"
   ]
  },
  {
   "cell_type": "code",
   "execution_count": 9,
   "metadata": {
    "colab": {
     "base_uri": "https://localhost:8080/"
    },
    "id": "HhYL8FaAd-_7",
    "outputId": "d2454eed-b8fe-45b5-a0e7-c0912d0472bf"
   },
   "outputs": [
    {
     "name": "stdout",
     "output_type": "stream",
     "text": [
      "Epoch 1/100\n",
      "13/13 [==============================] - 0s 1ms/step - loss: 342.7452 - mae: 14.1687\n",
      "Epoch 2/100\n",
      "13/13 [==============================] - 0s 1ms/step - loss: 88.7206 - mae: 6.9113\n",
      "Epoch 3/100\n",
      "13/13 [==============================] - 0s 1ms/step - loss: 65.6447 - mae: 5.9004\n",
      "Epoch 4/100\n",
      "13/13 [==============================] - 0s 1ms/step - loss: 78.7225 - mae: 6.3398\n",
      "Epoch 5/100\n",
      "13/13 [==============================] - 0s 1ms/step - loss: 75.8708 - mae: 6.3446\n",
      "Epoch 6/100\n",
      "13/13 [==============================] - 0s 1ms/step - loss: 62.7347 - mae: 5.5929\n",
      "Epoch 7/100\n",
      "13/13 [==============================] - 0s 1ms/step - loss: 59.6950 - mae: 5.3561\n",
      "Epoch 8/100\n",
      "13/13 [==============================] - 0s 997us/step - loss: 61.7269 - mae: 5.6395\n",
      "Epoch 9/100\n",
      "13/13 [==============================] - 0s 1ms/step - loss: 70.1086 - mae: 5.8949\n",
      "Epoch 10/100\n",
      "13/13 [==============================] - 0s 1ms/step - loss: 59.8240 - mae: 5.6855\n",
      "Epoch 11/100\n",
      "13/13 [==============================] - 0s 1ms/step - loss: 57.5076 - mae: 5.2451\n",
      "Epoch 12/100\n",
      "13/13 [==============================] - 0s 1ms/step - loss: 56.8505 - mae: 5.4629\n",
      "Epoch 13/100\n",
      "13/13 [==============================] - 0s 1ms/step - loss: 60.6463 - mae: 5.7204\n",
      "Epoch 14/100\n",
      "13/13 [==============================] - 0s 1ms/step - loss: 59.7622 - mae: 5.3905\n",
      "Epoch 15/100\n",
      "13/13 [==============================] - 0s 1ms/step - loss: 60.8809 - mae: 5.6929\n",
      "Epoch 16/100\n",
      "13/13 [==============================] - 0s 1ms/step - loss: 56.3374 - mae: 5.1645\n",
      "Epoch 17/100\n",
      "13/13 [==============================] - 0s 1ms/step - loss: 51.8153 - mae: 4.9438\n",
      "Epoch 18/100\n",
      "13/13 [==============================] - 0s 1ms/step - loss: 48.8251 - mae: 4.7773\n",
      "Epoch 19/100\n",
      "13/13 [==============================] - 0s 1ms/step - loss: 45.1927 - mae: 4.5824\n",
      "Epoch 20/100\n",
      "13/13 [==============================] - 0s 1ms/step - loss: 45.0244 - mae: 4.6816\n",
      "Epoch 21/100\n",
      "13/13 [==============================] - 0s 1ms/step - loss: 46.5174 - mae: 4.6061\n",
      "Epoch 22/100\n",
      "13/13 [==============================] - 0s 1ms/step - loss: 44.9625 - mae: 4.5977\n",
      "Epoch 23/100\n",
      "13/13 [==============================] - 0s 1ms/step - loss: 40.6097 - mae: 4.3129\n",
      "Epoch 24/100\n",
      "13/13 [==============================] - 0s 1ms/step - loss: 47.7318 - mae: 4.8896\n",
      "Epoch 25/100\n",
      "13/13 [==============================] - 0s 1ms/step - loss: 43.5158 - mae: 4.6025\n",
      "Epoch 26/100\n",
      "13/13 [==============================] - 0s 1ms/step - loss: 39.5627 - mae: 4.4838\n",
      "Epoch 27/100\n",
      "13/13 [==============================] - 0s 1ms/step - loss: 45.3799 - mae: 4.7105\n",
      "Epoch 28/100\n",
      "13/13 [==============================] - 0s 1ms/step - loss: 38.0343 - mae: 4.3032\n",
      "Epoch 29/100\n",
      "13/13 [==============================] - 0s 1ms/step - loss: 47.4617 - mae: 5.0526\n",
      "Epoch 30/100\n",
      "13/13 [==============================] - 0s 1ms/step - loss: 38.0608 - mae: 4.3694\n",
      "Epoch 31/100\n",
      "13/13 [==============================] - 0s 1ms/step - loss: 34.1862 - mae: 4.1101\n",
      "Epoch 32/100\n",
      "13/13 [==============================] - 0s 1ms/step - loss: 38.5164 - mae: 4.4809\n",
      "Epoch 33/100\n",
      "13/13 [==============================] - 0s 1ms/step - loss: 36.6619 - mae: 4.2836\n",
      "Epoch 34/100\n",
      "13/13 [==============================] - 0s 1ms/step - loss: 51.3973 - mae: 5.4372\n",
      "Epoch 35/100\n",
      "13/13 [==============================] - 0s 1ms/step - loss: 35.4498 - mae: 4.0874\n",
      "Epoch 36/100\n",
      "13/13 [==============================] - ETA: 0s - loss: 29.7650 - mae: 3.10 - 0s 1ms/step - loss: 31.8719 - mae: 3.9767\n",
      "Epoch 37/100\n",
      "13/13 [==============================] - 0s 1ms/step - loss: 36.1280 - mae: 4.3889\n",
      "Epoch 38/100\n",
      "13/13 [==============================] - 0s 1ms/step - loss: 41.4750 - mae: 4.7514\n",
      "Epoch 39/100\n",
      "13/13 [==============================] - 0s 1ms/step - loss: 35.7167 - mae: 4.3113\n",
      "Epoch 40/100\n",
      "13/13 [==============================] - 0s 1ms/step - loss: 31.3081 - mae: 3.9568\n",
      "Epoch 41/100\n",
      "13/13 [==============================] - 0s 1ms/step - loss: 32.9436 - mae: 4.2353\n",
      "Epoch 42/100\n",
      "13/13 [==============================] - 0s 1ms/step - loss: 39.7353 - mae: 4.6384\n",
      "Epoch 43/100\n",
      "13/13 [==============================] - 0s 1ms/step - loss: 39.8211 - mae: 4.4557\n",
      "Epoch 44/100\n",
      "13/13 [==============================] - 0s 1ms/step - loss: 32.8911 - mae: 4.1722\n",
      "Epoch 45/100\n",
      "13/13 [==============================] - 0s 1ms/step - loss: 32.2200 - mae: 3.9884\n",
      "Epoch 46/100\n",
      "13/13 [==============================] - 0s 1ms/step - loss: 28.3437 - mae: 3.9558\n",
      "Epoch 47/100\n",
      "13/13 [==============================] - 0s 1ms/step - loss: 35.3179 - mae: 4.2058\n",
      "Epoch 48/100\n",
      "13/13 [==============================] - 0s 1ms/step - loss: 35.3415 - mae: 4.1834\n",
      "Epoch 49/100\n",
      "13/13 [==============================] - 0s 1ms/step - loss: 32.5632 - mae: 3.9885\n",
      "Epoch 50/100\n",
      "13/13 [==============================] - 0s 1ms/step - loss: 36.1621 - mae: 4.5463\n",
      "Epoch 51/100\n",
      "13/13 [==============================] - 0s 1ms/step - loss: 27.3686 - mae: 3.8014\n",
      "Epoch 52/100\n",
      "13/13 [==============================] - 0s 1ms/step - loss: 26.3547 - mae: 3.6660\n",
      "Epoch 53/100\n",
      "13/13 [==============================] - 0s 1ms/step - loss: 25.7593 - mae: 3.6388\n",
      "Epoch 54/100\n",
      "13/13 [==============================] - 0s 1ms/step - loss: 23.4604 - mae: 3.4081\n",
      "Epoch 55/100\n",
      "13/13 [==============================] - 0s 1ms/step - loss: 22.5609 - mae: 3.4110\n",
      "Epoch 56/100\n",
      "13/13 [==============================] - 0s 1ms/step - loss: 26.1290 - mae: 3.6735\n",
      "Epoch 57/100\n",
      "13/13 [==============================] - 0s 1ms/step - loss: 35.4244 - mae: 4.3707\n",
      "Epoch 58/100\n",
      "13/13 [==============================] - 0s 1ms/step - loss: 23.8631 - mae: 3.7057\n",
      "Epoch 59/100\n",
      "13/13 [==============================] - 0s 1ms/step - loss: 29.6729 - mae: 3.9912\n",
      "Epoch 60/100\n",
      "13/13 [==============================] - 0s 1ms/step - loss: 21.4476 - mae: 3.4310\n",
      "Epoch 61/100\n",
      "13/13 [==============================] - 0s 1ms/step - loss: 22.4929 - mae: 3.4844\n",
      "Epoch 62/100\n",
      "13/13 [==============================] - 0s 1ms/step - loss: 22.5128 - mae: 3.4550\n",
      "Epoch 63/100\n",
      "13/13 [==============================] - 0s 1ms/step - loss: 20.3130 - mae: 3.3677\n",
      "Epoch 64/100\n",
      "13/13 [==============================] - 0s 1ms/step - loss: 27.1956 - mae: 3.7252\n",
      "Epoch 65/100\n",
      "13/13 [==============================] - 0s 1ms/step - loss: 37.1191 - mae: 4.4853\n",
      "Epoch 66/100\n",
      "13/13 [==============================] - 0s 1ms/step - loss: 23.3308 - mae: 3.5727\n",
      "Epoch 67/100\n",
      "13/13 [==============================] - 0s 1ms/step - loss: 27.6786 - mae: 3.8010\n",
      "Epoch 68/100\n",
      "13/13 [==============================] - 0s 1ms/step - loss: 28.5768 - mae: 4.0066\n",
      "Epoch 69/100\n",
      "13/13 [==============================] - 0s 1ms/step - loss: 18.0639 - mae: 3.1406\n",
      "Epoch 70/100\n",
      "13/13 [==============================] - 0s 1ms/step - loss: 15.9283 - mae: 2.9188\n",
      "Epoch 71/100\n",
      "13/13 [==============================] - 0s 1ms/step - loss: 16.9149 - mae: 2.9453\n",
      "Epoch 72/100\n",
      "13/13 [==============================] - 0s 1ms/step - loss: 15.5292 - mae: 2.8069\n",
      "Epoch 73/100\n",
      "13/13 [==============================] - 0s 1ms/step - loss: 18.7018 - mae: 3.1521\n",
      "Epoch 74/100\n",
      "13/13 [==============================] - 0s 1ms/step - loss: 19.5113 - mae: 3.1055\n",
      "Epoch 75/100\n",
      "13/13 [==============================] - 0s 1ms/step - loss: 16.6586 - mae: 2.9681\n",
      "Epoch 76/100\n",
      "13/13 [==============================] - 0s 1ms/step - loss: 15.3551 - mae: 2.8164\n",
      "Epoch 77/100\n",
      "13/13 [==============================] - 0s 1ms/step - loss: 15.4498 - mae: 2.9089\n",
      "Epoch 78/100\n",
      "13/13 [==============================] - 0s 1ms/step - loss: 23.7162 - mae: 3.5237\n",
      "Epoch 79/100\n",
      "13/13 [==============================] - 0s 1ms/step - loss: 20.3765 - mae: 3.1809\n",
      "Epoch 80/100\n",
      "13/13 [==============================] - 0s 1ms/step - loss: 16.3254 - mae: 2.9502\n",
      "Epoch 81/100\n",
      "13/13 [==============================] - 0s 1ms/step - loss: 17.1960 - mae: 2.9654\n",
      "Epoch 82/100\n",
      "13/13 [==============================] - 0s 1ms/step - loss: 20.7894 - mae: 3.2232\n",
      "Epoch 83/100\n",
      "13/13 [==============================] - 0s 1ms/step - loss: 19.5009 - mae: 3.2364\n",
      "Epoch 84/100\n",
      "13/13 [==============================] - 0s 1ms/step - loss: 15.5975 - mae: 2.9216\n",
      "Epoch 85/100\n",
      "13/13 [==============================] - 0s 1ms/step - loss: 18.9981 - mae: 3.1139\n",
      "Epoch 86/100\n",
      "13/13 [==============================] - 0s 1ms/step - loss: 13.9870 - mae: 2.7063\n",
      "Epoch 87/100\n",
      "13/13 [==============================] - 0s 1ms/step - loss: 16.6735 - mae: 2.9923\n",
      "Epoch 88/100\n",
      "13/13 [==============================] - 0s 1ms/step - loss: 24.2750 - mae: 3.4029\n",
      "Epoch 89/100\n",
      "13/13 [==============================] - 0s 1ms/step - loss: 26.0030 - mae: 3.7322\n",
      "Epoch 90/100\n",
      "13/13 [==============================] - 0s 1ms/step - loss: 16.2264 - mae: 3.0386\n",
      "Epoch 91/100\n",
      "13/13 [==============================] - 0s 1ms/step - loss: 18.3091 - mae: 3.0008\n",
      "Epoch 92/100\n",
      "13/13 [==============================] - 0s 1ms/step - loss: 22.6089 - mae: 3.5313\n",
      "Epoch 93/100\n",
      "13/13 [==============================] - 0s 1ms/step - loss: 13.4931 - mae: 2.6575\n",
      "Epoch 94/100\n",
      "13/13 [==============================] - 0s 1ms/step - loss: 13.5477 - mae: 2.6754\n",
      "Epoch 95/100\n",
      "13/13 [==============================] - 0s 1ms/step - loss: 12.9648 - mae: 2.6028\n",
      "Epoch 96/100\n",
      "13/13 [==============================] - 0s 1ms/step - loss: 13.0471 - mae: 2.5435\n",
      "Epoch 97/100\n",
      "13/13 [==============================] - 0s 1ms/step - loss: 13.2471 - mae: 2.5857\n",
      "Epoch 98/100\n",
      "13/13 [==============================] - 0s 1ms/step - loss: 15.3169 - mae: 2.6914\n",
      "Epoch 99/100\n",
      "13/13 [==============================] - 0s 1ms/step - loss: 14.9540 - mae: 2.6524\n",
      "Epoch 100/100\n",
      "13/13 [==============================] - 0s 1ms/step - loss: 12.2595 - mae: 2.6448\n"
     ]
    }
   ],
   "source": [
    "start = time.time()\n",
    "history1 = model1.fit(tensor1,tensor2,epochs = 100)\n",
    "end = time.time()\n",
    "time1 = end-start"
   ]
  },
  {
   "cell_type": "code",
   "execution_count": 10,
   "metadata": {
    "colab": {
     "base_uri": "https://localhost:8080/",
     "height": 428
    },
    "id": "pPyiP2s4hsq4",
    "outputId": "f9185bb5-935b-48f9-c751-655d5a557a3c"
   },
   "outputs": [
    {
     "data": {
      "image/png": "[encoded data removed]",
      "text/plain": [
       "<Figure size 720x504 with 1 Axes>"
      ]
     },
     "metadata": {
      "needs_background": "light"
     },
     "output_type": "display_data"
    }
   ],
   "source": [
    "pd.DataFrame(history1.history).plot(figsize = (10,7))#history.history is a dictionary\n",
    "plt.grid(True)\n",
    "plt.legend()\n",
    "plt.show()"
   ]
  },
  {
   "cell_type": "code",
   "execution_count": 11,
   "metadata": {
    "colab": {
     "base_uri": "https://localhost:8080/"
    },
    "id": "E6y0etP9jvdW",
    "outputId": "f7de1d40-5c57-4e27-fd57-bbf8506f4a02"
   },
   "outputs": [
    {
     "name": "stdout",
     "output_type": "stream",
     "text": [
      "4/4 [==============================] - 0s 997us/step - loss: 27.2175 - mae: 3.5784\n"
     ]
    }
   ],
   "source": [
    "eval1 = model1.evaluate(x_test,y_test)"
   ]
  },
  {
   "cell_type": "markdown",
   "metadata": {
    "id": "Y-raVH_-0N2h"
   },
   "source": [
    "### **MODEL2:TRAINING WITH RELU WITHOUT STANDARDIZATION**"
   ]
  },
  {
   "cell_type": "code",
   "execution_count": 12,
   "metadata": {
    "colab": {
     "base_uri": "https://localhost:8080/"
    },
    "id": "jBRoGFq9kNbB",
    "outputId": "0a9ded75-5138-48da-89a0-1083c6418068"
   },
   "outputs": [
    {
     "name": "stdout",
     "output_type": "stream",
     "text": [
      "Epoch 1/100\n",
      "13/13 [==============================] - 0s 2ms/step - loss: 193.4279 - mae: 10.5107\n",
      "Epoch 2/100\n",
      "13/13 [==============================] - 0s 1ms/step - loss: 77.6498 - mae: 6.3544\n",
      "Epoch 3/100\n",
      "13/13 [==============================] - 0s 997us/step - loss: 67.0691 - mae: 5.9549\n",
      "Epoch 4/100\n",
      "13/13 [==============================] - 0s 913us/step - loss: 62.3810 - mae: 5.4402\n",
      "Epoch 5/100\n",
      "13/13 [==============================] - 0s 997us/step - loss: 61.3177 - mae: 5.5297\n",
      "Epoch 6/100\n",
      "13/13 [==============================] - 0s 997us/step - loss: 60.9490 - mae: 5.5005\n",
      "Epoch 7/100\n",
      "13/13 [==============================] - 0s 997us/step - loss: 62.0228 - mae: 5.5291\n",
      "Epoch 8/100\n",
      "13/13 [==============================] - 0s 997us/step - loss: 64.0066 - mae: 5.5201\n",
      "Epoch 9/100\n",
      "13/13 [==============================] - 0s 997us/step - loss: 59.7497 - mae: 5.3624\n",
      "Epoch 10/100\n",
      "13/13 [==============================] - 0s 1ms/step - loss: 58.5031 - mae: 5.2784\n",
      "Epoch 11/100\n",
      "13/13 [==============================] - 0s 997us/step - loss: 56.5702 - mae: 5.1264\n",
      "Epoch 12/100\n",
      "13/13 [==============================] - 0s 997us/step - loss: 57.5749 - mae: 5.1697\n",
      "Epoch 13/100\n",
      "13/13 [==============================] - 0s 997us/step - loss: 55.8388 - mae: 5.2623\n",
      "Epoch 14/100\n",
      "13/13 [==============================] - 0s 997us/step - loss: 54.5113 - mae: 5.0853\n",
      "Epoch 15/100\n",
      "13/13 [==============================] - 0s 1ms/step - loss: 52.3472 - mae: 5.0648\n",
      "Epoch 16/100\n",
      "13/13 [==============================] - 0s 1ms/step - loss: 52.6496 - mae: 5.0161\n",
      "Epoch 17/100\n",
      "13/13 [==============================] - 0s 1ms/step - loss: 48.1454 - mae: 4.6436\n",
      "Epoch 18/100\n",
      "13/13 [==============================] - 0s 997us/step - loss: 45.8957 - mae: 4.6792\n",
      "Epoch 19/100\n",
      "13/13 [==============================] - 0s 914us/step - loss: 45.5014 - mae: 4.6872\n",
      "Epoch 20/100\n",
      "13/13 [==============================] - 0s 997us/step - loss: 45.8080 - mae: 4.8170\n",
      "Epoch 21/100\n",
      "13/13 [==============================] - 0s 997us/step - loss: 42.0502 - mae: 4.3696\n",
      "Epoch 22/100\n",
      "13/13 [==============================] - 0s 998us/step - loss: 40.9917 - mae: 4.5310\n",
      "Epoch 23/100\n",
      "13/13 [==============================] - 0s 998us/step - loss: 36.4964 - mae: 4.1462\n",
      "Epoch 24/100\n",
      "13/13 [==============================] - 0s 914us/step - loss: 48.2512 - mae: 4.9588\n",
      "Epoch 25/100\n",
      "13/13 [==============================] - 0s 997us/step - loss: 40.0742 - mae: 4.3947\n",
      "Epoch 26/100\n",
      "13/13 [==============================] - 0s 1ms/step - loss: 37.8545 - mae: 4.4711\n",
      "Epoch 27/100\n",
      "13/13 [==============================] - 0s 996us/step - loss: 42.2281 - mae: 4.5939\n",
      "Epoch 28/100\n",
      "13/13 [==============================] - 0s 914us/step - loss: 37.7109 - mae: 4.4970\n",
      "Epoch 29/100\n",
      "13/13 [==============================] - 0s 997us/step - loss: 41.8245 - mae: 4.5592\n",
      "Epoch 30/100\n",
      "13/13 [==============================] - 0s 1ms/step - loss: 37.7351 - mae: 4.4129\n",
      "Epoch 31/100\n",
      "13/13 [==============================] - 0s 914us/step - loss: 35.5158 - mae: 4.1313\n",
      "Epoch 32/100\n",
      "13/13 [==============================] - 0s 998us/step - loss: 31.9140 - mae: 4.0977\n",
      "Epoch 33/100\n",
      "13/13 [==============================] - 0s 997us/step - loss: 27.9367 - mae: 3.7363\n",
      "Epoch 34/100\n",
      "13/13 [==============================] - 0s 997us/step - loss: 34.0559 - mae: 4.4003\n",
      "Epoch 35/100\n",
      "13/13 [==============================] - 0s 914us/step - loss: 24.4922 - mae: 3.7219\n",
      "Epoch 36/100\n",
      "13/13 [==============================] - 0s 997us/step - loss: 25.4371 - mae: 3.6460\n",
      "Epoch 37/100\n",
      "13/13 [==============================] - 0s 913us/step - loss: 25.9104 - mae: 3.8464\n",
      "Epoch 38/100\n",
      "13/13 [==============================] - 0s 997us/step - loss: 28.8755 - mae: 4.0135\n",
      "Epoch 39/100\n",
      "13/13 [==============================] - 0s 1ms/step - loss: 25.9666 - mae: 3.6092\n",
      "Epoch 40/100\n",
      "13/13 [==============================] - 0s 997us/step - loss: 25.2525 - mae: 3.7425\n",
      "Epoch 41/100\n",
      "13/13 [==============================] - 0s 914us/step - loss: 23.3125 - mae: 3.5948\n",
      "Epoch 42/100\n",
      "13/13 [==============================] - 0s 1ms/step - loss: 24.1453 - mae: 3.5646\n",
      "Epoch 43/100\n",
      "13/13 [==============================] - 0s 997us/step - loss: 20.8467 - mae: 3.3408\n",
      "Epoch 44/100\n",
      "13/13 [==============================] - 0s 1ms/step - loss: 22.9533 - mae: 3.4050\n",
      "Epoch 45/100\n",
      "13/13 [==============================] - 0s 997us/step - loss: 18.3420 - mae: 3.1207\n",
      "Epoch 46/100\n",
      "13/13 [==============================] - 0s 1ms/step - loss: 17.2120 - mae: 3.0632\n",
      "Epoch 47/100\n",
      "13/13 [==============================] - 0s 997us/step - loss: 23.8219 - mae: 3.4324\n",
      "Epoch 48/100\n",
      "13/13 [==============================] - 0s 914us/step - loss: 22.0378 - mae: 3.3994\n",
      "Epoch 49/100\n",
      "13/13 [==============================] - 0s 997us/step - loss: 20.8285 - mae: 3.2666\n",
      "Epoch 50/100\n",
      "13/13 [==============================] - 0s 998us/step - loss: 33.6866 - mae: 4.2880\n",
      "Epoch 51/100\n",
      "13/13 [==============================] - 0s 997us/step - loss: 21.0427 - mae: 3.5174\n",
      "Epoch 52/100\n",
      "13/13 [==============================] - 0s 999us/step - loss: 19.6353 - mae: 3.3625\n",
      "Epoch 53/100\n",
      "13/13 [==============================] - 0s 997us/step - loss: 20.5368 - mae: 3.3321\n",
      "Epoch 54/100\n",
      "13/13 [==============================] - 0s 1ms/step - loss: 17.9353 - mae: 3.0625\n",
      "Epoch 55/100\n",
      "13/13 [==============================] - 0s 1ms/step - loss: 18.5113 - mae: 3.1619\n",
      "Epoch 56/100\n",
      "13/13 [==============================] - 0s 1ms/step - loss: 21.3543 - mae: 3.3026\n",
      "Epoch 57/100\n",
      "13/13 [==============================] - 0s 1ms/step - loss: 19.7304 - mae: 3.1653\n",
      "Epoch 58/100\n",
      "13/13 [==============================] - 0s 1ms/step - loss: 23.1607 - mae: 3.4452\n",
      "Epoch 59/100\n",
      "13/13 [==============================] - 0s 1ms/step - loss: 20.4931 - mae: 3.3453\n",
      "Epoch 60/100\n",
      "13/13 [==============================] - 0s 1ms/step - loss: 16.8503 - mae: 3.0007\n",
      "Epoch 61/100\n",
      "13/13 [==============================] - 0s 1ms/step - loss: 15.8969 - mae: 2.9074\n",
      "Epoch 62/100\n",
      "13/13 [==============================] - 0s 1ms/step - loss: 18.3770 - mae: 3.0737\n",
      "Epoch 63/100\n",
      "13/13 [==============================] - 0s 1ms/step - loss: 18.7649 - mae: 3.0012\n",
      "Epoch 64/100\n",
      "13/13 [==============================] - 0s 1ms/step - loss: 29.3608 - mae: 4.0546\n",
      "Epoch 65/100\n",
      "13/13 [==============================] - 0s 914us/step - loss: 19.3768 - mae: 3.4298\n",
      "Epoch 66/100\n",
      "13/13 [==============================] - 0s 1ms/step - loss: 20.9038 - mae: 3.1929\n",
      "Epoch 67/100\n",
      "13/13 [==============================] - 0s 1ms/step - loss: 21.7660 - mae: 3.3714\n",
      "Epoch 68/100\n",
      "13/13 [==============================] - 0s 1ms/step - loss: 14.5958 - mae: 2.8041\n",
      "Epoch 69/100\n",
      "13/13 [==============================] - 0s 997us/step - loss: 15.5489 - mae: 2.8654\n",
      "Epoch 70/100\n",
      "13/13 [==============================] - 0s 997us/step - loss: 16.1729 - mae: 2.9387\n",
      "Epoch 71/100\n",
      "13/13 [==============================] - 0s 997us/step - loss: 16.0975 - mae: 2.9316\n",
      "Epoch 72/100\n",
      "13/13 [==============================] - 0s 918us/step - loss: 14.7368 - mae: 2.7623\n",
      "Epoch 73/100\n",
      "13/13 [==============================] - 0s 997us/step - loss: 14.2711 - mae: 2.7125\n",
      "Epoch 74/100\n",
      "13/13 [==============================] - 0s 1ms/step - loss: 13.6490 - mae: 2.5866\n",
      "Epoch 75/100\n",
      "13/13 [==============================] - 0s 997us/step - loss: 14.3497 - mae: 2.7937\n",
      "Epoch 76/100\n",
      "13/13 [==============================] - 0s 1ms/step - loss: 15.7803 - mae: 2.7656\n",
      "Epoch 77/100\n",
      "13/13 [==============================] - 0s 997us/step - loss: 18.8619 - mae: 3.2104\n",
      "Epoch 78/100\n",
      "13/13 [==============================] - 0s 998us/step - loss: 19.8241 - mae: 3.0446\n",
      "Epoch 79/100\n",
      "13/13 [==============================] - 0s 1ms/step - loss: 13.1991 - mae: 2.6062\n",
      "Epoch 80/100\n",
      "13/13 [==============================] - 0s 997us/step - loss: 12.9676 - mae: 2.6497\n",
      "Epoch 81/100\n",
      "13/13 [==============================] - 0s 1ms/step - loss: 15.7883 - mae: 2.8739\n",
      "Epoch 82/100\n",
      "13/13 [==============================] - 0s 1ms/step - loss: 17.3517 - mae: 2.9646\n",
      "Epoch 83/100\n",
      "13/13 [==============================] - 0s 1ms/step - loss: 12.9112 - mae: 2.5769\n",
      "Epoch 84/100\n",
      "13/13 [==============================] - 0s 1ms/step - loss: 11.5148 - mae: 2.4954\n",
      "Epoch 85/100\n",
      "13/13 [==============================] - 0s 1ms/step - loss: 14.0613 - mae: 2.6661\n",
      "Epoch 86/100\n",
      "13/13 [==============================] - 0s 1ms/step - loss: 13.8854 - mae: 2.6418\n",
      "Epoch 87/100\n",
      "13/13 [==============================] - 0s 1ms/step - loss: 17.2516 - mae: 2.9740\n",
      "Epoch 88/100\n",
      "13/13 [==============================] - 0s 1ms/step - loss: 15.6878 - mae: 2.8247\n",
      "Epoch 89/100\n",
      "13/13 [==============================] - 0s 997us/step - loss: 16.5457 - mae: 2.9524\n",
      "Epoch 90/100\n",
      "13/13 [==============================] - 0s 914us/step - loss: 13.7551 - mae: 2.7433\n",
      "Epoch 91/100\n",
      "13/13 [==============================] - 0s 997us/step - loss: 15.4907 - mae: 2.7473\n",
      "Epoch 92/100\n",
      "13/13 [==============================] - 0s 914us/step - loss: 15.1269 - mae: 2.8030\n",
      "Epoch 93/100\n",
      "13/13 [==============================] - 0s 1ms/step - loss: 11.5879 - mae: 2.4733\n",
      "Epoch 94/100\n",
      "13/13 [==============================] - 0s 997us/step - loss: 12.1059 - mae: 2.5287\n",
      "Epoch 95/100\n",
      "13/13 [==============================] - 0s 1ms/step - loss: 12.1020 - mae: 2.4970\n",
      "Epoch 96/100\n",
      "13/13 [==============================] - 0s 997us/step - loss: 11.5598 - mae: 2.4281\n",
      "Epoch 97/100\n",
      "13/13 [==============================] - 0s 997us/step - loss: 13.4705 - mae: 2.6196\n",
      "Epoch 98/100\n",
      "13/13 [==============================] - 0s 914us/step - loss: 14.8313 - mae: 2.7135\n",
      "Epoch 99/100\n",
      "13/13 [==============================] - 0s 914us/step - loss: 11.2836 - mae: 2.4469\n",
      "Epoch 100/100\n",
      "13/13 [==============================] - 0s 997us/step - loss: 11.5803 - mae: 2.5079\n"
     ]
    }
   ],
   "source": [
    "#building the model\n",
    "tf.random.set_seed(42)\n",
    "model2 = tf.keras.Sequential([\n",
    " tf.keras.layers.Dense(100,activation=\"relu\"),\n",
    " tf.keras.layers.Dense(100,activation=\"relu\"),\n",
    " tf.keras.layers.Dense(100,activation=\"relu\"),\n",
    " tf.keras.layers.Dense(100,activation=\"relu\"),\n",
    " tf.keras.layers.Dense(100,activation=\"relu\"),\n",
    " tf.keras.layers.Dense(1)\n",
    "])\n",
    "#compiling the model\n",
    "model2.compile(loss = \"mse\",optimizer = tf.keras.optimizers.Adam(),metrics = 'mae')\n",
    "#fitting the model\n",
    "start = time.time()\n",
    "history2 = model2.fit(x_train,y_train,verbose=1,epochs = 100)\n",
    "end = time.time()\n",
    "time2 = end-start"
   ]
  },
  {
   "cell_type": "code",
   "execution_count": 13,
   "metadata": {
    "colab": {
     "base_uri": "https://localhost:8080/"
    },
    "id": "r-555o0TqHTz",
    "outputId": "0f8139b1-4103-4a9c-c267-c542333fcc3d"
   },
   "outputs": [
    {
     "data": {
      "text/plain": [
       "(102, 1)"
      ]
     },
     "execution_count": 13,
     "metadata": {},
     "output_type": "execute_result"
    }
   ],
   "source": [
    "y_pred = model2.predict(x_test)\n",
    "y_pred.shape"
   ]
  },
  {
   "cell_type": "code",
   "execution_count": 14,
   "metadata": {
    "colab": {
     "base_uri": "https://localhost:8080/",
     "height": 428
    },
    "id": "XTf3ECZ4uWJS",
    "outputId": "9263d3b1-7f7c-412f-a4c8-3e329fccf7ca"
   },
   "outputs": [
    {
     "data": {
      "image/png": "[encoded data removed]",
      "text/plain": [
       "<Figure size 720x504 with 1 Axes>"
      ]
     },
     "metadata": {
      "needs_background": "light"
     },
     "output_type": "display_data"
    }
   ],
   "source": [
    "df = pd.DataFrame(history2.history)\n",
    "df.plot(figsize=(10,7))\n",
    "plt.grid((True))\n",
    "plt.legend()\n",
    "plt.show()"
   ]
  },
  {
   "cell_type": "code",
   "execution_count": 15,
   "metadata": {
    "colab": {
     "base_uri": "https://localhost:8080/"
    },
    "id": "xLY-HsDZtccs",
    "outputId": "6bc8f9e5-462f-46fa-f718-08f3ad211ff5"
   },
   "outputs": [
    {
     "name": "stdout",
     "output_type": "stream",
     "text": [
      "4/4 [==============================] - 0s 1ms/step - loss: 29.8766 - mae: 3.6188\n"
     ]
    }
   ],
   "source": [
    "eval2 = model2.evaluate(x_test,y_test)"
   ]
  },
  {
   "cell_type": "markdown",
   "metadata": {
    "id": "napqwEDt06QR"
   },
   "source": [
    "### **MODEL3:TRAINING WITH RELU AND STANDARDIZATION**"
   ]
  },
  {
   "cell_type": "code",
   "execution_count": 16,
   "metadata": {
    "colab": {
     "base_uri": "https://localhost:8080/"
    },
    "id": "1woBnTK_4aE5",
    "outputId": "783804c6-d271-4f58-80f2-c6c6dcd23b7a"
   },
   "outputs": [
    {
     "data": {
      "text/plain": [
       "(array([[-0.27224633, -0.48361547, -0.43576161, ...,  1.14850044,\n",
       "          0.44807713,  0.8252202 ],\n",
       "        [-0.40342651,  2.99178419, -1.33391162, ..., -1.71818909,\n",
       "          0.43190599, -1.32920239],\n",
       "        [ 0.1249402 , -0.48361547,  1.0283258 , ...,  0.78447637,\n",
       "          0.22061726, -1.30850006],\n",
       "        ...,\n",
       "        [-0.40202987,  0.99079651, -0.7415148 , ..., -0.71712291,\n",
       "          0.07943894, -0.67776904],\n",
       "        [-0.17292018, -0.48361547,  1.24588095, ..., -1.71818909,\n",
       "         -0.98764362,  0.42083466],\n",
       "        [-0.40422614,  2.04394792, -1.20161456, ..., -1.30866202,\n",
       "          0.23317118, -1.15392266]]),\n",
       " dtype('float64'))"
      ]
     },
     "execution_count": 16,
     "metadata": {},
     "output_type": "execute_result"
    }
   ],
   "source": [
    "dataset = pd.DataFrame(x_train)\n",
    "from sklearn.compose import make_column_transformer\n",
    "from sklearn.preprocessing import StandardScaler\n",
    "ct = make_column_transformer((StandardScaler(),dataset.columns.values.tolist()))\n",
    "ct.fit(x_train)\n",
    "standardized_train = ct.transform(x_train)\n",
    "standardized_train,standardized_train.dtype"
   ]
  },
  {
   "cell_type": "code",
   "execution_count": 17,
   "metadata": {
    "colab": {
     "base_uri": "https://localhost:8080/"
    },
    "id": "j_qUhWrtTd_9",
    "outputId": "f77dce21-af7e-46f9-ae9e-f6db15d29319"
   },
   "outputs": [
    {
     "name": "stdout",
     "output_type": "stream",
     "text": [
      "Epoch 1/100\n",
      "13/13 [==============================] - 0s 1ms/step - loss: 544.2007 - mae: 21.4570\n",
      "Epoch 2/100\n",
      "13/13 [==============================] - 0s 1ms/step - loss: 250.8026 - mae: 13.1880\n",
      "Epoch 3/100\n",
      "13/13 [==============================] - 0s 997us/step - loss: 81.7017 - mae: 6.4798\n",
      "Epoch 4/100\n",
      "13/13 [==============================] - 0s 1ms/step - loss: 36.5521 - mae: 4.1697\n",
      "Epoch 5/100\n",
      "13/13 [==============================] - 0s 1ms/step - loss: 23.9999 - mae: 3.3875\n",
      "Epoch 6/100\n",
      "13/13 [==============================] - 0s 997us/step - loss: 20.3032 - mae: 3.1951\n",
      "Epoch 7/100\n",
      "13/13 [==============================] - 0s 1ms/step - loss: 17.1329 - mae: 2.9170\n",
      "Epoch 8/100\n",
      "13/13 [==============================] - 0s 997us/step - loss: 15.8168 - mae: 2.9127\n",
      "Epoch 9/100\n",
      "13/13 [==============================] - 0s 1ms/step - loss: 13.8823 - mae: 2.6693\n",
      "Epoch 10/100\n",
      "13/13 [==============================] - 0s 1ms/step - loss: 13.0308 - mae: 2.5604\n",
      "Epoch 11/100\n",
      "13/13 [==============================] - 0s 1ms/step - loss: 12.5422 - mae: 2.5946\n",
      "Epoch 12/100\n",
      "13/13 [==============================] - 0s 1ms/step - loss: 11.7777 - mae: 2.4816\n",
      "Epoch 13/100\n",
      "13/13 [==============================] - 0s 1ms/step - loss: 10.9992 - mae: 2.3940\n",
      "Epoch 14/100\n",
      "13/13 [==============================] - 0s 1ms/step - loss: 10.5360 - mae: 2.3174\n",
      "Epoch 15/100\n",
      "13/13 [==============================] - 0s 1ms/step - loss: 10.4087 - mae: 2.3266\n",
      "Epoch 16/100\n",
      "13/13 [==============================] - 0s 1ms/step - loss: 9.8899 - mae: 2.2719\n",
      "Epoch 17/100\n",
      "13/13 [==============================] - 0s 997us/step - loss: 9.7086 - mae: 2.3043\n",
      "Epoch 18/100\n",
      "13/13 [==============================] - 0s 1ms/step - loss: 8.9490 - mae: 2.1772\n",
      "Epoch 19/100\n",
      "13/13 [==============================] - 0s 997us/step - loss: 8.6371 - mae: 2.1394\n",
      "Epoch 20/100\n",
      "13/13 [==============================] - 0s 997us/step - loss: 8.3182 - mae: 2.1132\n",
      "Epoch 21/100\n",
      "13/13 [==============================] - 0s 1ms/step - loss: 7.9239 - mae: 2.0643\n",
      "Epoch 22/100\n",
      "13/13 [==============================] - 0s 998us/step - loss: 7.5528 - mae: 2.0290\n",
      "Epoch 23/100\n",
      "13/13 [==============================] - 0s 1ms/step - loss: 7.3608 - mae: 1.9977\n",
      "Epoch 24/100\n",
      "13/13 [==============================] - 0s 1ms/step - loss: 7.3127 - mae: 1.9591\n",
      "Epoch 25/100\n",
      "13/13 [==============================] - 0s 1ms/step - loss: 7.5240 - mae: 2.0451\n",
      "Epoch 26/100\n",
      "13/13 [==============================] - 0s 1ms/step - loss: 7.2855 - mae: 1.9950\n",
      "Epoch 27/100\n",
      "13/13 [==============================] - 0s 1ms/step - loss: 6.3911 - mae: 1.8891\n",
      "Epoch 28/100\n",
      "13/13 [==============================] - 0s 1ms/step - loss: 6.3803 - mae: 1.8466\n",
      "Epoch 29/100\n",
      "13/13 [==============================] - 0s 1ms/step - loss: 6.3735 - mae: 1.9374\n",
      "Epoch 30/100\n",
      "13/13 [==============================] - 0s 1ms/step - loss: 6.1521 - mae: 1.8653\n",
      "Epoch 31/100\n",
      "13/13 [==============================] - 0s 1ms/step - loss: 6.5000 - mae: 1.9251\n",
      "Epoch 32/100\n",
      "13/13 [==============================] - 0s 997us/step - loss: 5.7535 - mae: 1.7730\n",
      "Epoch 33/100\n",
      "13/13 [==============================] - 0s 1ms/step - loss: 5.4204 - mae: 1.7232\n",
      "Epoch 34/100\n",
      "13/13 [==============================] - 0s 1ms/step - loss: 5.5557 - mae: 1.7786\n",
      "Epoch 35/100\n",
      "13/13 [==============================] - 0s 1ms/step - loss: 4.6349 - mae: 1.6212\n",
      "Epoch 36/100\n",
      "13/13 [==============================] - 0s 1ms/step - loss: 4.6528 - mae: 1.6450\n",
      "Epoch 37/100\n",
      "13/13 [==============================] - 0s 1ms/step - loss: 4.4633 - mae: 1.5764\n",
      "Epoch 38/100\n",
      "13/13 [==============================] - 0s 997us/step - loss: 4.2884 - mae: 1.5405\n",
      "Epoch 39/100\n",
      "13/13 [==============================] - 0s 1ms/step - loss: 4.3883 - mae: 1.5663\n",
      "Epoch 40/100\n",
      "13/13 [==============================] - 0s 1ms/step - loss: 4.2047 - mae: 1.6001\n",
      "Epoch 41/100\n",
      "13/13 [==============================] - 0s 997us/step - loss: 3.9564 - mae: 1.5036\n",
      "Epoch 42/100\n",
      "13/13 [==============================] - 0s 1ms/step - loss: 3.8835 - mae: 1.4760\n",
      "Epoch 43/100\n",
      "13/13 [==============================] - 0s 1ms/step - loss: 3.6900 - mae: 1.4506\n",
      "Epoch 44/100\n",
      "13/13 [==============================] - 0s 1ms/step - loss: 3.5864 - mae: 1.4153\n",
      "Epoch 45/100\n",
      "13/13 [==============================] - 0s 1ms/step - loss: 3.6515 - mae: 1.4628\n",
      "Epoch 46/100\n",
      "13/13 [==============================] - 0s 1ms/step - loss: 3.4454 - mae: 1.4012\n",
      "Epoch 47/100\n",
      "13/13 [==============================] - 0s 1ms/step - loss: 3.4916 - mae: 1.4111\n",
      "Epoch 48/100\n",
      "13/13 [==============================] - 0s 1ms/step - loss: 3.4604 - mae: 1.4245\n",
      "Epoch 49/100\n",
      "13/13 [==============================] - 0s 1ms/step - loss: 3.6559 - mae: 1.4462\n",
      "Epoch 50/100\n",
      "13/13 [==============================] - 0s 1ms/step - loss: 3.4288 - mae: 1.4189\n",
      "Epoch 51/100\n",
      "13/13 [==============================] - 0s 1ms/step - loss: 3.3958 - mae: 1.3812\n",
      "Epoch 52/100\n",
      "13/13 [==============================] - 0s 1ms/step - loss: 2.9572 - mae: 1.2787\n",
      "Epoch 53/100\n",
      "13/13 [==============================] - 0s 1ms/step - loss: 2.8096 - mae: 1.2480\n",
      "Epoch 54/100\n",
      "13/13 [==============================] - 0s 1ms/step - loss: 2.7579 - mae: 1.2440\n",
      "Epoch 55/100\n",
      "13/13 [==============================] - 0s 1ms/step - loss: 2.7921 - mae: 1.2466\n",
      "Epoch 56/100\n",
      "13/13 [==============================] - 0s 1ms/step - loss: 2.8226 - mae: 1.2922\n",
      "Epoch 57/100\n",
      "13/13 [==============================] - 0s 1ms/step - loss: 2.8252 - mae: 1.2638\n",
      "Epoch 58/100\n",
      "13/13 [==============================] - ETA: 0s - loss: 2.2981 - mae: 1.279 - 0s 1ms/step - loss: 2.4032 - mae: 1.1531\n",
      "Epoch 59/100\n",
      "13/13 [==============================] - 0s 1ms/step - loss: 2.5782 - mae: 1.2061\n",
      "Epoch 60/100\n",
      "13/13 [==============================] - 0s 1ms/step - loss: 2.4341 - mae: 1.1399\n",
      "Epoch 61/100\n",
      "13/13 [==============================] - 0s 1ms/step - loss: 2.2390 - mae: 1.1140\n",
      "Epoch 62/100\n",
      "13/13 [==============================] - 0s 1ms/step - loss: 2.2024 - mae: 1.0991\n",
      "Epoch 63/100\n",
      "13/13 [==============================] - 0s 1ms/step - loss: 2.1998 - mae: 1.0970\n",
      "Epoch 64/100\n",
      "13/13 [==============================] - 0s 1ms/step - loss: 2.2277 - mae: 1.1139\n",
      "Epoch 65/100\n",
      "13/13 [==============================] - 0s 914us/step - loss: 2.3330 - mae: 1.1607\n",
      "Epoch 66/100\n",
      "13/13 [==============================] - 0s 1ms/step - loss: 2.3551 - mae: 1.1272\n",
      "Epoch 67/100\n",
      "13/13 [==============================] - 0s 914us/step - loss: 2.1142 - mae: 1.0821\n",
      "Epoch 68/100\n",
      "13/13 [==============================] - 0s 914us/step - loss: 2.0301 - mae: 1.0666\n",
      "Epoch 69/100\n",
      "13/13 [==============================] - 0s 997us/step - loss: 1.9289 - mae: 1.0164\n",
      "Epoch 70/100\n",
      "13/13 [==============================] - 0s 1ms/step - loss: 2.1529 - mae: 1.0797\n",
      "Epoch 71/100\n",
      "13/13 [==============================] - 0s 1ms/step - loss: 2.8978 - mae: 1.2955\n",
      "Epoch 72/100\n",
      "13/13 [==============================] - 0s 1ms/step - loss: 2.4132 - mae: 1.1574\n",
      "Epoch 73/100\n",
      "13/13 [==============================] - 0s 1ms/step - loss: 2.0991 - mae: 1.1000\n",
      "Epoch 74/100\n",
      "13/13 [==============================] - 0s 2ms/step - loss: 2.0412 - mae: 1.0354\n",
      "Epoch 75/100\n",
      "13/13 [==============================] - 0s 2ms/step - loss: 2.2767 - mae: 1.1196\n",
      "Epoch 76/100\n",
      "13/13 [==============================] - 0s 2ms/step - loss: 2.4292 - mae: 1.1732\n",
      "Epoch 77/100\n",
      "13/13 [==============================] - 0s 1ms/step - loss: 2.0737 - mae: 1.0917\n",
      "Epoch 78/100\n",
      "13/13 [==============================] - 0s 1ms/step - loss: 1.7580 - mae: 0.9751\n",
      "Epoch 79/100\n",
      "13/13 [==============================] - 0s 1ms/step - loss: 1.6737 - mae: 0.9376\n",
      "Epoch 80/100\n",
      "13/13 [==============================] - 0s 1ms/step - loss: 1.5647 - mae: 0.9101\n",
      "Epoch 81/100\n",
      "13/13 [==============================] - 0s 1ms/step - loss: 1.4710 - mae: 0.8699\n",
      "Epoch 82/100\n",
      "13/13 [==============================] - 0s 1ms/step - loss: 1.7057 - mae: 0.9643\n",
      "Epoch 83/100\n",
      "13/13 [==============================] - 0s 1ms/step - loss: 1.7850 - mae: 1.0046\n",
      "Epoch 84/100\n",
      "13/13 [==============================] - 0s 1ms/step - loss: 1.8238 - mae: 1.0136\n",
      "Epoch 85/100\n",
      "13/13 [==============================] - 0s 997us/step - loss: 1.8398 - mae: 1.0449\n",
      "Epoch 86/100\n",
      "13/13 [==============================] - 0s 1ms/step - loss: 1.8463 - mae: 1.0027\n",
      "Epoch 87/100\n",
      "13/13 [==============================] - 0s 997us/step - loss: 1.7876 - mae: 0.9799\n",
      "Epoch 88/100\n",
      "13/13 [==============================] - 0s 1ms/step - loss: 1.6811 - mae: 0.9452\n",
      "Epoch 89/100\n",
      "13/13 [==============================] - 0s 1ms/step - loss: 1.6366 - mae: 0.9333\n",
      "Epoch 90/100\n",
      "13/13 [==============================] - 0s 1ms/step - loss: 1.6750 - mae: 0.9693\n",
      "Epoch 91/100\n",
      "13/13 [==============================] - 0s 1ms/step - loss: 1.5084 - mae: 0.8953\n",
      "Epoch 92/100\n",
      "13/13 [==============================] - 0s 1ms/step - loss: 1.6382 - mae: 0.9425\n",
      "Epoch 93/100\n",
      "13/13 [==============================] - 0s 1ms/step - loss: 1.4987 - mae: 0.9081\n",
      "Epoch 94/100\n",
      "13/13 [==============================] - 0s 997us/step - loss: 1.2835 - mae: 0.8140\n",
      "Epoch 95/100\n",
      "13/13 [==============================] - 0s 997us/step - loss: 1.4190 - mae: 0.8588\n",
      "Epoch 96/100\n",
      "13/13 [==============================] - 0s 915us/step - loss: 1.5225 - mae: 0.8957\n",
      "Epoch 97/100\n",
      "13/13 [==============================] - 0s 914us/step - loss: 1.5193 - mae: 0.9121\n",
      "Epoch 98/100\n",
      "13/13 [==============================] - 0s 1ms/step - loss: 1.6246 - mae: 0.9362\n",
      "Epoch 99/100\n",
      "13/13 [==============================] - 0s 997us/step - loss: 1.2875 - mae: 0.8492\n",
      "Epoch 100/100\n",
      "13/13 [==============================] - 0s 914us/step - loss: 1.3605 - mae: 0.8680\n"
     ]
    }
   ],
   "source": [
    "tf.random.set_seed(42)\n",
    "model3 = tf.keras.Sequential([\n",
    "  tf.keras.layers.Dense(100,activation='relu'),\n",
    "  tf.keras.layers.Dense(100,activation='relu'),\n",
    "  tf.keras.layers.Dense(100,activation='relu'),\n",
    "  tf.keras.layers.Dense(100,activation='relu'),\n",
    "  tf.keras.layers.Dense(100,activation='relu'),\n",
    "  tf.keras.layers.Dense(1)\n",
    "])\n",
    "model3.compile(loss = 'mse',optimizer=tf.keras.optimizers.Adam(),metrics = 'mae')\n",
    "start = time.time()\n",
    "history3 = model3.fit(standardized_train,y_train,epochs = 100)\n",
    "end = time.time()\n",
    "time3 = end-start"
   ]
  },
  {
   "cell_type": "code",
   "execution_count": 18,
   "metadata": {
    "colab": {
     "base_uri": "https://localhost:8080/"
    },
    "id": "vmAEsiO4tbOF",
    "outputId": "72d788e2-06da-42b2-f7f7-532769b71cbc"
   },
   "outputs": [
    {
     "data": {
      "text/plain": [
       "array([[ 2.8040301 , -0.50784934,  0.96960877, ...,  0.90513041,\n",
       "        -4.27829517,  2.51324773],\n",
       "       [-0.55530596, -0.50784934, -0.17801704, ..., -0.28485844,\n",
       "         0.3909446 ,  0.58604286],\n",
       "       [-0.56808398, -0.50784934, -0.86176938, ...,  0.90513041,\n",
       "         0.41570668, -0.38506427],\n",
       "       ...,\n",
       "       [-0.23539182, -0.50784934,  1.17955762, ..., -1.82192738,\n",
       "         0.32313459, -1.55879807],\n",
       "       [-0.5113909 , -0.50784934, -0.71849348, ..., -0.48318992,\n",
       "         0.34967446, -0.38956708],\n",
       "       [-0.03148414, -0.50784934,  1.17955762, ..., -1.82192738,\n",
       "        -1.57465677, -0.3745577 ]])"
      ]
     },
     "execution_count": 18,
     "metadata": {},
     "output_type": "execute_result"
    }
   ],
   "source": [
    "dataset = pd.DataFrame(x_test)\n",
    "ct = make_column_transformer((StandardScaler(),dataset.columns.values.tolist()))\n",
    "ct.fit(dataset)\n",
    "standardized_test = ct.transform(dataset)\n",
    "standardized_test"
   ]
  },
  {
   "cell_type": "code",
   "execution_count": 19,
   "metadata": {
    "colab": {
     "base_uri": "https://localhost:8080/"
    },
    "id": "87l7oC5qye3P",
    "outputId": "dfe2621c-255e-4341-b3f6-e7042f7e1b2c"
   },
   "outputs": [
    {
     "name": "stdout",
     "output_type": "stream",
     "text": [
      "4/4 [==============================] - 0s 997us/step - loss: 14.3449 - mae: 2.6640\n"
     ]
    }
   ],
   "source": [
    "eval3 = model3.evaluate(standardized_test,y_test)"
   ]
  },
  {
   "cell_type": "code",
   "execution_count": 20,
   "metadata": {
    "colab": {
     "base_uri": "https://localhost:8080/",
     "height": 428
    },
    "id": "S418AkFQy36f",
    "outputId": "cc183b62-ff9b-4943-d809-e37bf5466814"
   },
   "outputs": [
    {
     "data": {
      "image/png": "[encoded data removed]",
      "text/plain": [
       "<Figure size 720x504 with 1 Axes>"
      ]
     },
     "metadata": {
      "needs_background": "light"
     },
     "output_type": "display_data"
    }
   ],
   "source": [
    "pd.DataFrame(history3.history).plot(figsize=(10,7))\n",
    "plt.grid(True)\n",
    "plt.legend()\n",
    "plt.show()"
   ]
  },
  {
   "cell_type": "markdown",
   "metadata": {
    "id": "i5e238qyzOnu"
   },
   "source": [
    "### **MODEL4: TRAINING WITH SELU AND STANDARDIZATION**"
   ]
  },
  {
   "cell_type": "code",
   "execution_count": 21,
   "metadata": {
    "colab": {
     "base_uri": "https://localhost:8080/"
    },
    "id": "XAMZvNjK1b5M",
    "outputId": "8c95bd49-6510-4d42-91b0-4737dd106ee2"
   },
   "outputs": [
    {
     "data": {
      "text/plain": [
       "array([[-0.27224633, -0.48361547, -0.43576161, ...,  1.14850044,\n",
       "         0.44807713,  0.8252202 ],\n",
       "       [-0.40342651,  2.99178419, -1.33391162, ..., -1.71818909,\n",
       "         0.43190599, -1.32920239],\n",
       "       [ 0.1249402 , -0.48361547,  1.0283258 , ...,  0.78447637,\n",
       "         0.22061726, -1.30850006],\n",
       "       ...,\n",
       "       [-0.40202987,  0.99079651, -0.7415148 , ..., -0.71712291,\n",
       "         0.07943894, -0.67776904],\n",
       "       [-0.17292018, -0.48361547,  1.24588095, ..., -1.71818909,\n",
       "        -0.98764362,  0.42083466],\n",
       "       [-0.40422614,  2.04394792, -1.20161456, ..., -1.30866202,\n",
       "         0.23317118, -1.15392266]])"
      ]
     },
     "execution_count": 21,
     "metadata": {},
     "output_type": "execute_result"
    }
   ],
   "source": [
    "from sklearn.preprocessing import StandardScaler\n",
    "from sklearn.compose import make_column_transformer\n",
    "df = pd.DataFrame(x_train)\n",
    "ct = make_column_transformer((StandardScaler(),df.columns.values.tolist()))\n",
    "ct.fit(df)\n",
    "standardized_train = ct.transform(df)\n",
    "standardized_train"
   ]
  },
  {
   "cell_type": "code",
   "execution_count": 22,
   "metadata": {
    "colab": {
     "base_uri": "https://localhost:8080/"
    },
    "id": "wyWv5Oeo2VPW",
    "outputId": "0a560f03-7715-4a7c-fe55-3d5b21943104"
   },
   "outputs": [
    {
     "name": "stdout",
     "output_type": "stream",
     "text": [
      "Epoch 1/100\n",
      "13/13 [==============================] - 0s 1ms/step - loss: 399.9892 - mae: 18.0160\n",
      "Epoch 2/100\n",
      "13/13 [==============================] - 0s 1ms/step - loss: 79.6047 - mae: 6.6363\n",
      "Epoch 3/100\n",
      "13/13 [==============================] - 0s 1ms/step - loss: 44.8545 - mae: 4.9192\n",
      "Epoch 4/100\n",
      "13/13 [==============================] - 0s 1ms/step - loss: 32.5368 - mae: 3.7569\n",
      "Epoch 5/100\n",
      "13/13 [==============================] - 0s 1ms/step - loss: 23.9652 - mae: 3.2382\n",
      "Epoch 6/100\n",
      "13/13 [==============================] - 0s 1ms/step - loss: 19.7377 - mae: 2.9514\n",
      "Epoch 7/100\n",
      "13/13 [==============================] - 0s 1ms/step - loss: 16.3111 - mae: 2.6389\n",
      "Epoch 8/100\n",
      "13/13 [==============================] - 0s 1ms/step - loss: 13.9222 - mae: 2.5653\n",
      "Epoch 9/100\n",
      "13/13 [==============================] - 0s 1ms/step - loss: 12.0538 - mae: 2.3659\n",
      "Epoch 10/100\n",
      "13/13 [==============================] - 0s 1ms/step - loss: 10.5003 - mae: 2.1968\n",
      "Epoch 11/100\n",
      "13/13 [==============================] - 0s 1ms/step - loss: 10.3736 - mae: 2.2750\n",
      "Epoch 12/100\n",
      "13/13 [==============================] - 0s 1ms/step - loss: 9.5378 - mae: 2.2042\n",
      "Epoch 13/100\n",
      "13/13 [==============================] - 0s 1ms/step - loss: 9.4964 - mae: 2.2343\n",
      "Epoch 14/100\n",
      "13/13 [==============================] - 0s 1ms/step - loss: 8.8228 - mae: 2.1258\n",
      "Epoch 15/100\n",
      "13/13 [==============================] - 0s 1ms/step - loss: 8.6988 - mae: 2.1168\n",
      "Epoch 16/100\n",
      "13/13 [==============================] - 0s 1ms/step - loss: 7.3864 - mae: 1.8994\n",
      "Epoch 17/100\n",
      "13/13 [==============================] - 0s 1ms/step - loss: 7.0770 - mae: 1.9051\n",
      "Epoch 18/100\n",
      "13/13 [==============================] - 0s 1ms/step - loss: 7.0833 - mae: 1.9298\n",
      "Epoch 19/100\n",
      "13/13 [==============================] - 0s 1ms/step - loss: 6.7434 - mae: 1.8279\n",
      "Epoch 20/100\n",
      "13/13 [==============================] - 0s 1ms/step - loss: 6.4611 - mae: 1.7900\n",
      "Epoch 21/100\n",
      "13/13 [==============================] - 0s 1ms/step - loss: 6.2860 - mae: 1.7977\n",
      "Epoch 22/100\n",
      "13/13 [==============================] - 0s 1ms/step - loss: 6.0609 - mae: 1.7511\n",
      "Epoch 23/100\n",
      "13/13 [==============================] - 0s 1ms/step - loss: 5.4503 - mae: 1.7037\n",
      "Epoch 24/100\n",
      "13/13 [==============================] - 0s 1ms/step - loss: 6.4998 - mae: 1.8528\n",
      "Epoch 25/100\n",
      "13/13 [==============================] - 0s 1ms/step - loss: 6.5441 - mae: 1.8746\n",
      "Epoch 26/100\n",
      "13/13 [==============================] - 0s 1ms/step - loss: 5.9341 - mae: 1.7766\n",
      "Epoch 27/100\n",
      "13/13 [==============================] - 0s 1ms/step - loss: 5.7553 - mae: 1.7289\n",
      "Epoch 28/100\n",
      "13/13 [==============================] - 0s 1ms/step - loss: 5.3072 - mae: 1.6477\n",
      "Epoch 29/100\n",
      "13/13 [==============================] - 0s 2ms/step - loss: 4.8376 - mae: 1.6022\n",
      "Epoch 30/100\n",
      "13/13 [==============================] - 0s 1ms/step - loss: 5.6350 - mae: 1.7394\n",
      "Epoch 31/100\n",
      "13/13 [==============================] - 0s 1ms/step - loss: 4.3776 - mae: 1.5528\n",
      "Epoch 32/100\n",
      "13/13 [==============================] - 0s 1ms/step - loss: 5.2198 - mae: 1.6825\n",
      "Epoch 33/100\n",
      "13/13 [==============================] - 0s 1ms/step - loss: 5.2128 - mae: 1.7414\n",
      "Epoch 34/100\n",
      "13/13 [==============================] - 0s 1ms/step - loss: 4.6018 - mae: 1.6069\n",
      "Epoch 35/100\n",
      "13/13 [==============================] - 0s 1ms/step - loss: 4.3379 - mae: 1.5143\n",
      "Epoch 36/100\n",
      "13/13 [==============================] - 0s 1ms/step - loss: 4.3656 - mae: 1.5555\n",
      "Epoch 37/100\n",
      "13/13 [==============================] - 0s 1ms/step - loss: 4.1307 - mae: 1.4738\n",
      "Epoch 38/100\n",
      "13/13 [==============================] - 0s 1ms/step - loss: 4.1557 - mae: 1.4846\n",
      "Epoch 39/100\n",
      "13/13 [==============================] - 0s 1ms/step - loss: 4.6302 - mae: 1.5698\n",
      "Epoch 40/100\n",
      "13/13 [==============================] - 0s 1ms/step - loss: 5.9788 - mae: 1.8816\n",
      "Epoch 41/100\n",
      "13/13 [==============================] - 0s 2ms/step - loss: 5.6461 - mae: 1.8343\n",
      "Epoch 42/100\n",
      "13/13 [==============================] - 0s 1ms/step - loss: 5.0630 - mae: 1.6770\n",
      "Epoch 43/100\n",
      "13/13 [==============================] - 0s 1ms/step - loss: 3.9098 - mae: 1.4130\n",
      "Epoch 44/100\n",
      "13/13 [==============================] - 0s 1ms/step - loss: 3.8821 - mae: 1.4485\n",
      "Epoch 45/100\n",
      "13/13 [==============================] - 0s 1ms/step - loss: 4.3698 - mae: 1.5603\n",
      "Epoch 46/100\n",
      "13/13 [==============================] - 0s 2ms/step - loss: 4.4962 - mae: 1.5807\n",
      "Epoch 47/100\n",
      "13/13 [==============================] - 0s 2ms/step - loss: 4.3207 - mae: 1.5595\n",
      "Epoch 48/100\n",
      "13/13 [==============================] - 0s 2ms/step - loss: 5.4529 - mae: 1.7923\n",
      "Epoch 49/100\n",
      "13/13 [==============================] - 0s 2ms/step - loss: 5.4695 - mae: 1.7646\n",
      "Epoch 50/100\n",
      "13/13 [==============================] - 0s 2ms/step - loss: 4.5635 - mae: 1.6135\n",
      "Epoch 51/100\n",
      "13/13 [==============================] - 0s 2ms/step - loss: 4.0779 - mae: 1.5125\n",
      "Epoch 52/100\n",
      "13/13 [==============================] - 0s 2ms/step - loss: 3.6830 - mae: 1.4369\n",
      "Epoch 53/100\n",
      "13/13 [==============================] - 0s 2ms/step - loss: 3.7439 - mae: 1.4348\n",
      "Epoch 54/100\n",
      "13/13 [==============================] - 0s 1ms/step - loss: 3.0623 - mae: 1.2825\n",
      "Epoch 55/100\n",
      "13/13 [==============================] - 0s 1ms/step - loss: 3.1096 - mae: 1.2966\n",
      "Epoch 56/100\n",
      "13/13 [==============================] - 0s 1ms/step - loss: 3.6141 - mae: 1.4196\n",
      "Epoch 57/100\n",
      "13/13 [==============================] - 0s 1ms/step - loss: 3.1515 - mae: 1.2958\n",
      "Epoch 58/100\n",
      "13/13 [==============================] - 0s 1ms/step - loss: 3.2097 - mae: 1.3356\n",
      "Epoch 59/100\n",
      "13/13 [==============================] - 0s 1ms/step - loss: 2.9933 - mae: 1.3178\n",
      "Epoch 60/100\n",
      "13/13 [==============================] - 0s 1ms/step - loss: 2.9857 - mae: 1.2885\n",
      "Epoch 61/100\n",
      "13/13 [==============================] - 0s 1ms/step - loss: 2.7898 - mae: 1.2440\n",
      "Epoch 62/100\n",
      "13/13 [==============================] - 0s 1ms/step - loss: 2.8245 - mae: 1.2368\n",
      "Epoch 63/100\n",
      "13/13 [==============================] - 0s 1ms/step - loss: 3.2849 - mae: 1.3450\n",
      "Epoch 64/100\n",
      "13/13 [==============================] - 0s 1ms/step - loss: 3.3436 - mae: 1.3612\n",
      "Epoch 65/100\n",
      "13/13 [==============================] - 0s 1ms/step - loss: 3.4257 - mae: 1.3133\n",
      "Epoch 66/100\n",
      "13/13 [==============================] - 0s 1ms/step - loss: 3.1231 - mae: 1.3270\n",
      "Epoch 67/100\n",
      "13/13 [==============================] - 0s 1ms/step - loss: 3.2434 - mae: 1.3454\n",
      "Epoch 68/100\n",
      "13/13 [==============================] - 0s 1ms/step - loss: 2.7405 - mae: 1.2003\n",
      "Epoch 69/100\n",
      "13/13 [==============================] - 0s 1ms/step - loss: 3.4236 - mae: 1.4151\n",
      "Epoch 70/100\n",
      "13/13 [==============================] - 0s 1ms/step - loss: 2.7912 - mae: 1.2496\n",
      "Epoch 71/100\n",
      "13/13 [==============================] - 0s 1ms/step - loss: 3.1597 - mae: 1.3475\n",
      "Epoch 72/100\n",
      "13/13 [==============================] - 0s 1ms/step - loss: 3.2857 - mae: 1.3611\n",
      "Epoch 73/100\n",
      "13/13 [==============================] - 0s 1ms/step - loss: 2.6451 - mae: 1.1911\n",
      "Epoch 74/100\n",
      "13/13 [==============================] - 0s 1ms/step - loss: 2.8276 - mae: 1.2687\n",
      "Epoch 75/100\n",
      "13/13 [==============================] - 0s 1ms/step - loss: 2.9679 - mae: 1.2949\n",
      "Epoch 76/100\n",
      "13/13 [==============================] - 0s 1ms/step - loss: 2.5709 - mae: 1.2252\n",
      "Epoch 77/100\n",
      "13/13 [==============================] - 0s 1ms/step - loss: 2.7451 - mae: 1.2403\n",
      "Epoch 78/100\n",
      "13/13 [==============================] - 0s 1ms/step - loss: 2.6481 - mae: 1.1885\n",
      "Epoch 79/100\n",
      "13/13 [==============================] - 0s 1ms/step - loss: 2.7352 - mae: 1.2151\n",
      "Epoch 80/100\n",
      "13/13 [==============================] - 0s 1ms/step - loss: 2.9087 - mae: 1.3077\n",
      "Epoch 81/100\n",
      "13/13 [==============================] - 0s 1ms/step - loss: 2.3699 - mae: 1.1481\n",
      "Epoch 82/100\n",
      "13/13 [==============================] - 0s 1ms/step - loss: 2.4918 - mae: 1.1779\n",
      "Epoch 83/100\n",
      "13/13 [==============================] - 0s 1ms/step - loss: 2.3749 - mae: 1.1282\n",
      "Epoch 84/100\n",
      "13/13 [==============================] - 0s 1ms/step - loss: 2.5858 - mae: 1.1909\n",
      "Epoch 85/100\n",
      "13/13 [==============================] - 0s 1ms/step - loss: 3.0513 - mae: 1.3450\n",
      "Epoch 86/100\n",
      "13/13 [==============================] - 0s 1ms/step - loss: 2.6864 - mae: 1.2471\n",
      "Epoch 87/100\n",
      "13/13 [==============================] - 0s 1ms/step - loss: 2.6112 - mae: 1.2685\n",
      "Epoch 88/100\n",
      "13/13 [==============================] - 0s 1ms/step - loss: 2.0810 - mae: 1.0972\n",
      "Epoch 89/100\n",
      "13/13 [==============================] - 0s 1ms/step - loss: 2.5509 - mae: 1.2074\n",
      "Epoch 90/100\n",
      "13/13 [==============================] - 0s 1ms/step - loss: 2.4539 - mae: 1.2183\n",
      "Epoch 91/100\n",
      "13/13 [==============================] - 0s 1ms/step - loss: 1.9901 - mae: 1.0637\n",
      "Epoch 92/100\n",
      "13/13 [==============================] - 0s 1ms/step - loss: 2.1972 - mae: 1.1186\n",
      "Epoch 93/100\n",
      "13/13 [==============================] - 0s 1ms/step - loss: 2.1638 - mae: 1.0981\n",
      "Epoch 94/100\n",
      "13/13 [==============================] - 0s 1ms/step - loss: 2.4876 - mae: 1.2311\n",
      "Epoch 95/100\n",
      "13/13 [==============================] - 0s 1ms/step - loss: 2.2851 - mae: 1.1323\n",
      "Epoch 96/100\n",
      "13/13 [==============================] - 0s 1ms/step - loss: 1.8173 - mae: 0.9897\n",
      "Epoch 97/100\n",
      "13/13 [==============================] - 0s 1ms/step - loss: 1.8803 - mae: 1.0402\n",
      "Epoch 98/100\n",
      "13/13 [==============================] - 0s 1ms/step - loss: 2.0038 - mae: 1.0463\n",
      "Epoch 99/100\n",
      "13/13 [==============================] - 0s 2ms/step - loss: 1.7937 - mae: 0.9939\n",
      "Epoch 100/100\n",
      "13/13 [==============================] - 0s 2ms/step - loss: 2.1083 - mae: 1.0823\n"
     ]
    }
   ],
   "source": [
    "tf.random.set_seed(42)\n",
    "model4 = tf.keras.Sequential([\n",
    "  tf.keras.layers.Dense(100,activation='selu',kernel_initializer='lecun_normal'),\n",
    "  tf.keras.layers.Dense(100,activation='selu',kernel_initializer='lecun_normal'),\n",
    "  tf.keras.layers.Dense(100,activation='selu',kernel_initializer='lecun_normal'),\n",
    "  tf.keras.layers.Dense(100,activation='selu',kernel_initializer='lecun_normal'),\n",
    "  tf.keras.layers.Dense(100,activation='selu',kernel_initializer='lecun_normal'),\n",
    "  tf.keras.layers.Dense(1)\n",
    "])\n",
    "model4.compile(loss = 'mse',optimizer = tf.keras.optimizers.Adam(),metrics = 'mae')\n",
    "start = time.time()\n",
    "history4 = model4.fit(standardized_train,y_train,epochs = 100)\n",
    "end = time.time()\n",
    "time4 = end-start"
   ]
  },
  {
   "cell_type": "code",
   "execution_count": 23,
   "metadata": {
    "colab": {
     "base_uri": "https://localhost:8080/",
     "height": 428
    },
    "id": "XTNWoyhA32g_",
    "outputId": "7c02c780-abe1-4be5-daf9-9952aac3ea96"
   },
   "outputs": [
    {
     "data": {
      "image/png": "[encoded data removed]",
      "text/plain": [
       "<Figure size 720x504 with 1 Axes>"
      ]
     },
     "metadata": {
      "needs_background": "light"
     },
     "output_type": "display_data"
    }
   ],
   "source": [
    "pd.DataFrame(history4.history).plot(figsize=(10,7))\n",
    "plt.grid(True)\n",
    "plt.legend()\n",
    "plt.show()"
   ]
  },
  {
   "cell_type": "code",
   "execution_count": 24,
   "metadata": {
    "colab": {
     "base_uri": "https://localhost:8080/"
    },
    "id": "3Bap2IC943w_",
    "outputId": "df5ffece-f3c0-4ad0-aacc-fe7169f834bd"
   },
   "outputs": [
    {
     "name": "stdout",
     "output_type": "stream",
     "text": [
      "4/4 [==============================] - 0s 665us/step - loss: 10.1025 - mae: 2.2932\n"
     ]
    }
   ],
   "source": [
    "df = pd.DataFrame(x_test)\n",
    "ct.fit(df)\n",
    "standardized_test = ct.transform(df)\n",
    "eval4 = model4.evaluate(standardized_test,y_test)"
   ]
  },
  {
   "cell_type": "code",
   "execution_count": 35,
   "metadata": {
    "scrolled": true
   },
   "outputs": [
    {
     "data": {
      "image/png": "[encoded data removed]",
      "text/plain": [
       "<Figure size 720x504 with 1 Axes>"
      ]
     },
     "metadata": {
      "needs_background": "light"
     },
     "output_type": "display_data"
    }
   ],
   "source": [
    "time_required = {\n",
    "  \"RELU/NOSTD\": [time1],\n",
    "  \"SELU/NOSTD\": [time2],\n",
    "  \"RELU/STD\": [time3],\n",
    "    \"SELU/STD\": [time4]\n",
    "}\n",
    "pd.DataFrame.from_dict(time_required).plot(kind = 'bar',figsize=(10,7))\n",
    "plt.grid(True)\n",
    "plt.legend()\n",
    "plt.show()"
   ]
  },
  {
   "cell_type": "code",
   "execution_count": 41,
   "metadata": {},
   "outputs": [
    {
     "data": {
      "image/png": "[encoded data removed]",
      "text/plain": [
       "<Figure size 720x504 with 1 Axes>"
      ]
     },
     "metadata": {
      "needs_background": "light"
     },
     "output_type": "display_data"
    }
   ],
   "source": [
    "time_required = {\n",
    "  \"RELU/NOSTD\": [eval1[1]],\n",
    "  \"SELU/NOSTD\": [eval2[1]],\n",
    "  \"RELU/STD\": [eval3[1]],\n",
    "    \"SELU/STD\": [eval4[1]]\n",
    "}\n",
    "pd.DataFrame.from_dict(time_required).plot(kind = 'bar',figsize=(10,7))\n",
    "plt.grid(True)\n",
    "plt.legend()\n",
    "plt.show()"
   ]
  },
  {
   "cell_type": "code",
   "execution_count": null,
   "metadata": {},
   "outputs": [],
   "source": []
  }
 ],
 "metadata": {
  "accelerator": "GPU",
  "colab": {
   "collapsed_sections": [],
   "name": "Neural_network_regression.ipynb",
   "provenance": []
  },
  "kernelspec": {
   "display_name": "Python 3",
   "language": "python",
   "name": "python3"
  },
  "language_info": {
   "codemirror_mode": {
    "name": "ipython",
    "version": 3
   },
   "file_extension": ".py",
   "mimetype": "text/x-python",
   "name": "python",
   "nbconvert_exporter": "python",
   "pygments_lexer": "ipython3",
   "version": "3.9.0"
  }
 },
 "nbformat": 4,
 "nbformat_minor": 1
}
